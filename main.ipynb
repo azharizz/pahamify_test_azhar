{
 "metadata": {
  "language_info": {
   "codemirror_mode": {
    "name": "ipython",
    "version": 3
   },
   "file_extension": ".py",
   "mimetype": "text/x-python",
   "name": "python",
   "nbconvert_exporter": "python",
   "pygments_lexer": "ipython3",
   "version": "3.8.8"
  },
  "orig_nbformat": 2,
  "kernelspec": {
   "name": "python388jvsc74a57bd0b02821161fbb83fc6a6b46d4a58e013eb1e8cbf4389161cf74382c4da59844a1",
   "display_name": "Python 3.8.8 64-bit ('myenv': conda)"
  }
 },
 "nbformat": 4,
 "nbformat_minor": 2,
 "cells": [
  {
   "cell_type": "code",
   "execution_count": 311,
   "metadata": {},
   "outputs": [],
   "source": [
    "# data manipulation\n",
    "import numpy as np\n",
    "import pandas as pd\n",
    "\n",
    "# visualization\n",
    "import matplotlib.pyplot as plt\n",
    "import seaborn as sns"
   ]
  },
  {
   "cell_type": "code",
   "execution_count": 374,
   "metadata": {},
   "outputs": [],
   "source": [
    "transaction_package_hist_df = pd.read_csv('canva_packages/transaction_package_history.csv', sep=';')\n",
    "package_df = pd.read_csv('canva_packages/packages.csv', sep=';')\n",
    "diamond_hist_df = pd.read_csv('canva_transaction/diamond_history.csv', sep=';')\n",
    "user_data_df = pd.read_csv('canva_users/user_data.csv', sep=';')\n",
    "user_profile_df = pd.read_csv('canva_users/user_profile.csv', sep=';')\n",
    "user_status_df = pd.read_csv('canva_transaction/user_status.csv', sep=';')\n",
    "\n",
    "#Copy for Monthly Active User because the origin dataframe is going to drop some row later\n",
    "transaction_copy = transaction_package_hist_df.copy()"
   ]
  },
  {
   "cell_type": "code",
   "execution_count": 313,
   "metadata": {},
   "outputs": [
    {
     "output_type": "execute_result",
     "data": {
      "text/plain": [
       "                       UniqueUserActionId UserActionCreatedDate  \\\n",
       "0    00292417-c77a-45eb-8d86-f6b60fa771aa   2019-10-28 14:22:51   \n",
       "1    005741ff-2f2f-4a94-a3ab-a85e7c8ec68d   2019-10-12 19:13:27   \n",
       "2    01af8353-fac2-4b69-9a09-3bee2405cc24   2019-10-28 18:47:58   \n",
       "3    01dc384f-4a83-4782-aaa1-372cede54a95   2019-12-05 10:47:22   \n",
       "4    024837d0-6894-4345-a46f-941714eaadd6   2019-12-04 11:42:06   \n",
       "..                                    ...                   ...   \n",
       "340  fa35f8d3-5d76-42f1-a5ec-edd49e23dc4b   2019-10-24 17:29:27   \n",
       "341  fb2f12b1-20cc-44f0-b9c3-d6b0305b12cc   2020-01-03 16:11:01   \n",
       "342  fe379bae-ca20-43ed-b640-6f4032de838c   2019-10-13 11:33:11   \n",
       "343  fe5f8728-1801-4df4-a35f-23ca52c89c1c   2019-12-03 14:37:00   \n",
       "344  ff189ff4-10c7-41b4-9875-de088e1acc42   2019-10-13 11:33:10   \n",
       "\n",
       "                      UniqueTransactionId  UserId  \\\n",
       "0    d5d70720-2c6b-4efe-9d5b-14f0617f5300      43   \n",
       "1                                     NaN      76   \n",
       "2    c4ab723c-384e-4ce4-8cf8-0364cf92b86c      43   \n",
       "3    2c7e043a-6e92-4407-aba0-9819d27aec04     123   \n",
       "4    c209667d-134d-4b6d-969c-403f19873e16       7   \n",
       "..                                    ...     ...   \n",
       "340                                   NaN     123   \n",
       "341  7ef198ac-2bb2-42a3-9f9a-8a0cf39bef43     123   \n",
       "342                                   NaN     104   \n",
       "343  0b7fb9e3-f404-4857-8b78-650f02a101ee     123   \n",
       "344                                   NaN      43   \n",
       "\n",
       "                    UniqueActionPackageId  \n",
       "0    e4ecd156-789f-4639-b03a-953aaad54d0c  \n",
       "1    021ca281-b694-43e8-936a-9cbf98cbbdce  \n",
       "2    e4ecd156-789f-4639-b03a-953aaad54d0c  \n",
       "3    9e7135ca-753b-4e5b-bff1-c27d45d1fe85  \n",
       "4    43827957-7c98-436d-9a9b-2eb47096ef67  \n",
       "..                                    ...  \n",
       "340  021ca281-b694-43e8-936a-9cbf98cbbdce  \n",
       "341  9e7135ca-753b-4e5b-bff1-c27d45d1fe85  \n",
       "342  021ca281-b694-43e8-936a-9cbf98cbbdce  \n",
       "343  9e7135ca-753b-4e5b-bff1-c27d45d1fe85  \n",
       "344  021ca281-b694-43e8-936a-9cbf98cbbdce  \n",
       "\n",
       "[345 rows x 5 columns]"
      ],
      "text/html": "<div>\n<style scoped>\n    .dataframe tbody tr th:only-of-type {\n        vertical-align: middle;\n    }\n\n    .dataframe tbody tr th {\n        vertical-align: top;\n    }\n\n    .dataframe thead th {\n        text-align: right;\n    }\n</style>\n<table border=\"1\" class=\"dataframe\">\n  <thead>\n    <tr style=\"text-align: right;\">\n      <th></th>\n      <th>UniqueUserActionId</th>\n      <th>UserActionCreatedDate</th>\n      <th>UniqueTransactionId</th>\n      <th>UserId</th>\n      <th>UniqueActionPackageId</th>\n    </tr>\n  </thead>\n  <tbody>\n    <tr>\n      <th>0</th>\n      <td>00292417-c77a-45eb-8d86-f6b60fa771aa</td>\n      <td>2019-10-28 14:22:51</td>\n      <td>d5d70720-2c6b-4efe-9d5b-14f0617f5300</td>\n      <td>43</td>\n      <td>e4ecd156-789f-4639-b03a-953aaad54d0c</td>\n    </tr>\n    <tr>\n      <th>1</th>\n      <td>005741ff-2f2f-4a94-a3ab-a85e7c8ec68d</td>\n      <td>2019-10-12 19:13:27</td>\n      <td>NaN</td>\n      <td>76</td>\n      <td>021ca281-b694-43e8-936a-9cbf98cbbdce</td>\n    </tr>\n    <tr>\n      <th>2</th>\n      <td>01af8353-fac2-4b69-9a09-3bee2405cc24</td>\n      <td>2019-10-28 18:47:58</td>\n      <td>c4ab723c-384e-4ce4-8cf8-0364cf92b86c</td>\n      <td>43</td>\n      <td>e4ecd156-789f-4639-b03a-953aaad54d0c</td>\n    </tr>\n    <tr>\n      <th>3</th>\n      <td>01dc384f-4a83-4782-aaa1-372cede54a95</td>\n      <td>2019-12-05 10:47:22</td>\n      <td>2c7e043a-6e92-4407-aba0-9819d27aec04</td>\n      <td>123</td>\n      <td>9e7135ca-753b-4e5b-bff1-c27d45d1fe85</td>\n    </tr>\n    <tr>\n      <th>4</th>\n      <td>024837d0-6894-4345-a46f-941714eaadd6</td>\n      <td>2019-12-04 11:42:06</td>\n      <td>c209667d-134d-4b6d-969c-403f19873e16</td>\n      <td>7</td>\n      <td>43827957-7c98-436d-9a9b-2eb47096ef67</td>\n    </tr>\n    <tr>\n      <th>...</th>\n      <td>...</td>\n      <td>...</td>\n      <td>...</td>\n      <td>...</td>\n      <td>...</td>\n    </tr>\n    <tr>\n      <th>340</th>\n      <td>fa35f8d3-5d76-42f1-a5ec-edd49e23dc4b</td>\n      <td>2019-10-24 17:29:27</td>\n      <td>NaN</td>\n      <td>123</td>\n      <td>021ca281-b694-43e8-936a-9cbf98cbbdce</td>\n    </tr>\n    <tr>\n      <th>341</th>\n      <td>fb2f12b1-20cc-44f0-b9c3-d6b0305b12cc</td>\n      <td>2020-01-03 16:11:01</td>\n      <td>7ef198ac-2bb2-42a3-9f9a-8a0cf39bef43</td>\n      <td>123</td>\n      <td>9e7135ca-753b-4e5b-bff1-c27d45d1fe85</td>\n    </tr>\n    <tr>\n      <th>342</th>\n      <td>fe379bae-ca20-43ed-b640-6f4032de838c</td>\n      <td>2019-10-13 11:33:11</td>\n      <td>NaN</td>\n      <td>104</td>\n      <td>021ca281-b694-43e8-936a-9cbf98cbbdce</td>\n    </tr>\n    <tr>\n      <th>343</th>\n      <td>fe5f8728-1801-4df4-a35f-23ca52c89c1c</td>\n      <td>2019-12-03 14:37:00</td>\n      <td>0b7fb9e3-f404-4857-8b78-650f02a101ee</td>\n      <td>123</td>\n      <td>9e7135ca-753b-4e5b-bff1-c27d45d1fe85</td>\n    </tr>\n    <tr>\n      <th>344</th>\n      <td>ff189ff4-10c7-41b4-9875-de088e1acc42</td>\n      <td>2019-10-13 11:33:10</td>\n      <td>NaN</td>\n      <td>43</td>\n      <td>021ca281-b694-43e8-936a-9cbf98cbbdce</td>\n    </tr>\n  </tbody>\n</table>\n<p>345 rows × 5 columns</p>\n</div>"
     },
     "metadata": {},
     "execution_count": 313
    }
   ],
   "source": [
    "transaction_package_hist_df"
   ]
  },
  {
   "cell_type": "code",
   "execution_count": 314,
   "metadata": {},
   "outputs": [
    {
     "output_type": "execute_result",
     "data": {
      "text/plain": [
       "                             DiamondLogId  UniqueUserId  DiamondTotal  \\\n",
       "0    002ed8dc-640b-47d4-8303-7776357659ef            43             5   \n",
       "1    006c3269-1698-4f03-980d-737843ec4b88           128             5   \n",
       "2    008a072a-f34c-450d-9146-eb8a5de1b344           126             5   \n",
       "3    00a66721-bbc5-42c0-bef7-6f3277b8774b           128             5   \n",
       "4    02217139-d373-403b-a040-d384231d73c4           127            10   \n",
       "..                                    ...           ...           ...   \n",
       "532  fe090522-e63e-48ad-a468-31819056ab25            43            45   \n",
       "533  ff394cfc-54e0-48f8-a469-0a5cf806cc1e           135             5   \n",
       "534  ff78dfa9-1d09-46fd-a20d-1d49f6a6402f            43             3   \n",
       "535  ffa51cb1-14a6-4022-9b96-35d2d038edb5           127             5   \n",
       "536  fff3f64a-78c0-4605-bdcc-6459219946d9            43             5   \n",
       "\n",
       "    PaymentType                                       DiamondUsage  \\\n",
       "0         topup                                    topup 5 diamond   \n",
       "1        charge  Video Tryout Registration: TryOut UTBK 2020 #1...   \n",
       "2         topup                                                NaN   \n",
       "3        charge  Full Tryout Registration: TryOut UTBK 2020 #1 ...   \n",
       "4        charge                         Konseling 1on1 reservation   \n",
       "..          ...                                                ...   \n",
       "532       topup                                                NaN   \n",
       "533      charge                          Aptitude test reservation   \n",
       "534      charge  Full Tryout Registration: TryOut UTBK 2020 #3 ...   \n",
       "535      charge                          Aptitude test reservation   \n",
       "536       topup                                    topup 5 diamond   \n",
       "\n",
       "               UsageDate  \n",
       "0    2019-10-09 02:40:10  \n",
       "1    2019-12-25 19:36:54  \n",
       "2    2019-10-13 04:33:13  \n",
       "3    2019-10-29 01:15:46  \n",
       "4    2019-10-28 04:31:43  \n",
       "..                   ...  \n",
       "532  2019-12-11 19:32:16  \n",
       "533  2019-11-26 03:26:24  \n",
       "534  2019-12-11 20:10:51  \n",
       "535  2019-11-13 09:55:48  \n",
       "536  2019-10-09 02:39:55  \n",
       "\n",
       "[537 rows x 6 columns]"
      ],
      "text/html": "<div>\n<style scoped>\n    .dataframe tbody tr th:only-of-type {\n        vertical-align: middle;\n    }\n\n    .dataframe tbody tr th {\n        vertical-align: top;\n    }\n\n    .dataframe thead th {\n        text-align: right;\n    }\n</style>\n<table border=\"1\" class=\"dataframe\">\n  <thead>\n    <tr style=\"text-align: right;\">\n      <th></th>\n      <th>DiamondLogId</th>\n      <th>UniqueUserId</th>\n      <th>DiamondTotal</th>\n      <th>PaymentType</th>\n      <th>DiamondUsage</th>\n      <th>UsageDate</th>\n    </tr>\n  </thead>\n  <tbody>\n    <tr>\n      <th>0</th>\n      <td>002ed8dc-640b-47d4-8303-7776357659ef</td>\n      <td>43</td>\n      <td>5</td>\n      <td>topup</td>\n      <td>topup 5 diamond</td>\n      <td>2019-10-09 02:40:10</td>\n    </tr>\n    <tr>\n      <th>1</th>\n      <td>006c3269-1698-4f03-980d-737843ec4b88</td>\n      <td>128</td>\n      <td>5</td>\n      <td>charge</td>\n      <td>Video Tryout Registration: TryOut UTBK 2020 #1...</td>\n      <td>2019-12-25 19:36:54</td>\n    </tr>\n    <tr>\n      <th>2</th>\n      <td>008a072a-f34c-450d-9146-eb8a5de1b344</td>\n      <td>126</td>\n      <td>5</td>\n      <td>topup</td>\n      <td>NaN</td>\n      <td>2019-10-13 04:33:13</td>\n    </tr>\n    <tr>\n      <th>3</th>\n      <td>00a66721-bbc5-42c0-bef7-6f3277b8774b</td>\n      <td>128</td>\n      <td>5</td>\n      <td>charge</td>\n      <td>Full Tryout Registration: TryOut UTBK 2020 #1 ...</td>\n      <td>2019-10-29 01:15:46</td>\n    </tr>\n    <tr>\n      <th>4</th>\n      <td>02217139-d373-403b-a040-d384231d73c4</td>\n      <td>127</td>\n      <td>10</td>\n      <td>charge</td>\n      <td>Konseling 1on1 reservation</td>\n      <td>2019-10-28 04:31:43</td>\n    </tr>\n    <tr>\n      <th>...</th>\n      <td>...</td>\n      <td>...</td>\n      <td>...</td>\n      <td>...</td>\n      <td>...</td>\n      <td>...</td>\n    </tr>\n    <tr>\n      <th>532</th>\n      <td>fe090522-e63e-48ad-a468-31819056ab25</td>\n      <td>43</td>\n      <td>45</td>\n      <td>topup</td>\n      <td>NaN</td>\n      <td>2019-12-11 19:32:16</td>\n    </tr>\n    <tr>\n      <th>533</th>\n      <td>ff394cfc-54e0-48f8-a469-0a5cf806cc1e</td>\n      <td>135</td>\n      <td>5</td>\n      <td>charge</td>\n      <td>Aptitude test reservation</td>\n      <td>2019-11-26 03:26:24</td>\n    </tr>\n    <tr>\n      <th>534</th>\n      <td>ff78dfa9-1d09-46fd-a20d-1d49f6a6402f</td>\n      <td>43</td>\n      <td>3</td>\n      <td>charge</td>\n      <td>Full Tryout Registration: TryOut UTBK 2020 #3 ...</td>\n      <td>2019-12-11 20:10:51</td>\n    </tr>\n    <tr>\n      <th>535</th>\n      <td>ffa51cb1-14a6-4022-9b96-35d2d038edb5</td>\n      <td>127</td>\n      <td>5</td>\n      <td>charge</td>\n      <td>Aptitude test reservation</td>\n      <td>2019-11-13 09:55:48</td>\n    </tr>\n    <tr>\n      <th>536</th>\n      <td>fff3f64a-78c0-4605-bdcc-6459219946d9</td>\n      <td>43</td>\n      <td>5</td>\n      <td>topup</td>\n      <td>topup 5 diamond</td>\n      <td>2019-10-09 02:39:55</td>\n    </tr>\n  </tbody>\n</table>\n<p>537 rows × 6 columns</p>\n</div>"
     },
     "metadata": {},
     "execution_count": 314
    }
   ],
   "source": [
    "diamond_hist_df"
   ]
  },
  {
   "cell_type": "code",
   "execution_count": 315,
   "metadata": {},
   "outputs": [
    {
     "output_type": "execute_result",
     "data": {
      "text/plain": [
       "                       ActionPackagesId  ActionCreatedBy  ActionModifiedBy  \\\n",
       "0  021ca281-b694-43e8-936a-9cbf98cbbdce               43                43   \n",
       "1  05d8d076-d2da-460a-aa43-7b27287caeef               43                43   \n",
       "2  05e6fb42-f783-461c-b19b-66e9598d13ab               43               104   \n",
       "3  1194dc2f-3469-40e1-bb20-0d57bbc3e4a6              104               104   \n",
       "4  1532b93e-5153-4a88-ac4b-ef6eac679607               43                43   \n",
       "\n",
       "     ActionCreatedDate    ActionUpdatedDate    ActionDeletedDate  \\\n",
       "0  2019-10-12 17:34:53  2019-10-13 11:26:08                  NaN   \n",
       "1  2019-10-08 13:35:47  2019-10-08 13:35:47  2019-10-08 13:37:17   \n",
       "2  2019-07-11 13:57:01  2019-12-11 12:39:50                  NaN   \n",
       "3  2019-07-01 15:17:45  2019-07-01 15:17:45  2019-07-01 15:17:53   \n",
       "4  2019-07-01 12:57:59  2019-10-28 14:38:03                  NaN   \n",
       "\n",
       "                                    ActionName  \\\n",
       "0  Paket Reward 5-Diamond for Einstein Student   \n",
       "1                             Paket 5 Diamond    \n",
       "2        Paket Marie Curie Tokopedia (3 Bulan)   \n",
       "3               Hdhdhdh😜😀😊😃hzhzhzzhjzj 我爱你 ❌',   \n",
       "4                        Paket Tesla (6 Bulan)   \n",
       "\n",
       "                                         description  \\\n",
       "0  Hadiah 5 Diamond untuk kamu yang sudah membeli...   \n",
       "1  Mendapatkan 5 buah diamond yang bisa kamu guna...   \n",
       "2  Mendapatkan akses seluruh materi Pahamify sela...   \n",
       "3                     Hdhdhdh😜😀😊😃hzhzhzzhjzj 我爱你 ❌',   \n",
       "4  Mendapatkan akses seluruh materi Pahamify sela...   \n",
       "\n",
       "                                       ActionBenefit  TotalPrice  BasePrice  \\\n",
       "0                       Mendapatkan 5 Diamond gratis           0          0   \n",
       "1  Mendapatkan 5 buah diamond yang bisa kamu guna...       25000          0   \n",
       "2  Dapatkan akses ke seluruh materi belajar Paham...       85000     370000   \n",
       "3                     Hdhdhdh😜😀😊😃hzhzhzzhjzj 我爱你 ❌',           0          0   \n",
       "4  Dapatkan akses ke seluruh materi belajar Paham...      170000     570000   \n",
       "\n",
       "              PromoDescription  PromoStatus  \n",
       "0                          NaN            0  \n",
       "1                          NaN            1  \n",
       "2  Special Launch Discount 70%            0  \n",
       "3                          NaN            0  \n",
       "4  Special Launch Discount 70%            0  "
      ],
      "text/html": "<div>\n<style scoped>\n    .dataframe tbody tr th:only-of-type {\n        vertical-align: middle;\n    }\n\n    .dataframe tbody tr th {\n        vertical-align: top;\n    }\n\n    .dataframe thead th {\n        text-align: right;\n    }\n</style>\n<table border=\"1\" class=\"dataframe\">\n  <thead>\n    <tr style=\"text-align: right;\">\n      <th></th>\n      <th>ActionPackagesId</th>\n      <th>ActionCreatedBy</th>\n      <th>ActionModifiedBy</th>\n      <th>ActionCreatedDate</th>\n      <th>ActionUpdatedDate</th>\n      <th>ActionDeletedDate</th>\n      <th>ActionName</th>\n      <th>description</th>\n      <th>ActionBenefit</th>\n      <th>TotalPrice</th>\n      <th>BasePrice</th>\n      <th>PromoDescription</th>\n      <th>PromoStatus</th>\n    </tr>\n  </thead>\n  <tbody>\n    <tr>\n      <th>0</th>\n      <td>021ca281-b694-43e8-936a-9cbf98cbbdce</td>\n      <td>43</td>\n      <td>43</td>\n      <td>2019-10-12 17:34:53</td>\n      <td>2019-10-13 11:26:08</td>\n      <td>NaN</td>\n      <td>Paket Reward 5-Diamond for Einstein Student</td>\n      <td>Hadiah 5 Diamond untuk kamu yang sudah membeli...</td>\n      <td>Mendapatkan 5 Diamond gratis</td>\n      <td>0</td>\n      <td>0</td>\n      <td>NaN</td>\n      <td>0</td>\n    </tr>\n    <tr>\n      <th>1</th>\n      <td>05d8d076-d2da-460a-aa43-7b27287caeef</td>\n      <td>43</td>\n      <td>43</td>\n      <td>2019-10-08 13:35:47</td>\n      <td>2019-10-08 13:35:47</td>\n      <td>2019-10-08 13:37:17</td>\n      <td>Paket 5 Diamond</td>\n      <td>Mendapatkan 5 buah diamond yang bisa kamu guna...</td>\n      <td>Mendapatkan 5 buah diamond yang bisa kamu guna...</td>\n      <td>25000</td>\n      <td>0</td>\n      <td>NaN</td>\n      <td>1</td>\n    </tr>\n    <tr>\n      <th>2</th>\n      <td>05e6fb42-f783-461c-b19b-66e9598d13ab</td>\n      <td>43</td>\n      <td>104</td>\n      <td>2019-07-11 13:57:01</td>\n      <td>2019-12-11 12:39:50</td>\n      <td>NaN</td>\n      <td>Paket Marie Curie Tokopedia (3 Bulan)</td>\n      <td>Mendapatkan akses seluruh materi Pahamify sela...</td>\n      <td>Dapatkan akses ke seluruh materi belajar Paham...</td>\n      <td>85000</td>\n      <td>370000</td>\n      <td>Special Launch Discount 70%</td>\n      <td>0</td>\n    </tr>\n    <tr>\n      <th>3</th>\n      <td>1194dc2f-3469-40e1-bb20-0d57bbc3e4a6</td>\n      <td>104</td>\n      <td>104</td>\n      <td>2019-07-01 15:17:45</td>\n      <td>2019-07-01 15:17:45</td>\n      <td>2019-07-01 15:17:53</td>\n      <td>Hdhdhdh😜😀😊😃hzhzhzzhjzj 我爱你 ❌',</td>\n      <td>Hdhdhdh😜😀😊😃hzhzhzzhjzj 我爱你 ❌',</td>\n      <td>Hdhdhdh😜😀😊😃hzhzhzzhjzj 我爱你 ❌',</td>\n      <td>0</td>\n      <td>0</td>\n      <td>NaN</td>\n      <td>0</td>\n    </tr>\n    <tr>\n      <th>4</th>\n      <td>1532b93e-5153-4a88-ac4b-ef6eac679607</td>\n      <td>43</td>\n      <td>43</td>\n      <td>2019-07-01 12:57:59</td>\n      <td>2019-10-28 14:38:03</td>\n      <td>NaN</td>\n      <td>Paket Tesla (6 Bulan)</td>\n      <td>Mendapatkan akses seluruh materi Pahamify sela...</td>\n      <td>Dapatkan akses ke seluruh materi belajar Paham...</td>\n      <td>170000</td>\n      <td>570000</td>\n      <td>Special Launch Discount 70%</td>\n      <td>0</td>\n    </tr>\n  </tbody>\n</table>\n</div>"
     },
     "metadata": {},
     "execution_count": 315
    }
   ],
   "source": [
    "package_df.head()"
   ]
  },
  {
   "source": [
    "# **MRR**"
   ],
   "cell_type": "markdown",
   "metadata": {}
  },
  {
   "cell_type": "code",
   "execution_count": 316,
   "metadata": {},
   "outputs": [],
   "source": [
    "transaction_package_hist_df['UserActionCreatedDate'] = pd.to_datetime(transaction_package_hist_df['UserActionCreatedDate'])\n",
    "transaction_package_hist_df['year_month_date'] = transaction_package_hist_df['UserActionCreatedDate'].dt.strftime('%Y-%m')\n",
    "transaction_package_hist_df['year_month_date'] = pd.to_datetime(transaction_package_hist_df['year_month_date'])"
   ]
  },
  {
   "cell_type": "code",
   "execution_count": 317,
   "metadata": {},
   "outputs": [],
   "source": [
    "#transaction_package_hist_df['month'] = transaction_package_hist_df['UserActionCreatedDate'].dt.month\n",
    "#transaction_package_hist_df['year'] = transaction_package_hist_df['UserActionCreatedDate'].dt.year"
   ]
  },
  {
   "cell_type": "code",
   "execution_count": 318,
   "metadata": {},
   "outputs": [
    {
     "output_type": "execute_result",
     "data": {
      "text/plain": [
       "                       UniqueUserActionId UserActionCreatedDate  \\\n",
       "0    00292417-c77a-45eb-8d86-f6b60fa771aa   2019-10-28 14:22:51   \n",
       "1    005741ff-2f2f-4a94-a3ab-a85e7c8ec68d   2019-10-12 19:13:27   \n",
       "2    01af8353-fac2-4b69-9a09-3bee2405cc24   2019-10-28 18:47:58   \n",
       "3    01dc384f-4a83-4782-aaa1-372cede54a95   2019-12-05 10:47:22   \n",
       "4    024837d0-6894-4345-a46f-941714eaadd6   2019-12-04 11:42:06   \n",
       "..                                    ...                   ...   \n",
       "340  fa35f8d3-5d76-42f1-a5ec-edd49e23dc4b   2019-10-24 17:29:27   \n",
       "341  fb2f12b1-20cc-44f0-b9c3-d6b0305b12cc   2020-01-03 16:11:01   \n",
       "342  fe379bae-ca20-43ed-b640-6f4032de838c   2019-10-13 11:33:11   \n",
       "343  fe5f8728-1801-4df4-a35f-23ca52c89c1c   2019-12-03 14:37:00   \n",
       "344  ff189ff4-10c7-41b4-9875-de088e1acc42   2019-10-13 11:33:10   \n",
       "\n",
       "                      UniqueTransactionId  UserId  \\\n",
       "0    d5d70720-2c6b-4efe-9d5b-14f0617f5300      43   \n",
       "1                                     NaN      76   \n",
       "2    c4ab723c-384e-4ce4-8cf8-0364cf92b86c      43   \n",
       "3    2c7e043a-6e92-4407-aba0-9819d27aec04     123   \n",
       "4    c209667d-134d-4b6d-969c-403f19873e16       7   \n",
       "..                                    ...     ...   \n",
       "340                                   NaN     123   \n",
       "341  7ef198ac-2bb2-42a3-9f9a-8a0cf39bef43     123   \n",
       "342                                   NaN     104   \n",
       "343  0b7fb9e3-f404-4857-8b78-650f02a101ee     123   \n",
       "344                                   NaN      43   \n",
       "\n",
       "                    UniqueActionPackageId year_month_date  \n",
       "0    e4ecd156-789f-4639-b03a-953aaad54d0c      2019-10-01  \n",
       "1    021ca281-b694-43e8-936a-9cbf98cbbdce      2019-10-01  \n",
       "2    e4ecd156-789f-4639-b03a-953aaad54d0c      2019-10-01  \n",
       "3    9e7135ca-753b-4e5b-bff1-c27d45d1fe85      2019-12-01  \n",
       "4    43827957-7c98-436d-9a9b-2eb47096ef67      2019-12-01  \n",
       "..                                    ...             ...  \n",
       "340  021ca281-b694-43e8-936a-9cbf98cbbdce      2019-10-01  \n",
       "341  9e7135ca-753b-4e5b-bff1-c27d45d1fe85      2020-01-01  \n",
       "342  021ca281-b694-43e8-936a-9cbf98cbbdce      2019-10-01  \n",
       "343  9e7135ca-753b-4e5b-bff1-c27d45d1fe85      2019-12-01  \n",
       "344  021ca281-b694-43e8-936a-9cbf98cbbdce      2019-10-01  \n",
       "\n",
       "[345 rows x 6 columns]"
      ],
      "text/html": "<div>\n<style scoped>\n    .dataframe tbody tr th:only-of-type {\n        vertical-align: middle;\n    }\n\n    .dataframe tbody tr th {\n        vertical-align: top;\n    }\n\n    .dataframe thead th {\n        text-align: right;\n    }\n</style>\n<table border=\"1\" class=\"dataframe\">\n  <thead>\n    <tr style=\"text-align: right;\">\n      <th></th>\n      <th>UniqueUserActionId</th>\n      <th>UserActionCreatedDate</th>\n      <th>UniqueTransactionId</th>\n      <th>UserId</th>\n      <th>UniqueActionPackageId</th>\n      <th>year_month_date</th>\n    </tr>\n  </thead>\n  <tbody>\n    <tr>\n      <th>0</th>\n      <td>00292417-c77a-45eb-8d86-f6b60fa771aa</td>\n      <td>2019-10-28 14:22:51</td>\n      <td>d5d70720-2c6b-4efe-9d5b-14f0617f5300</td>\n      <td>43</td>\n      <td>e4ecd156-789f-4639-b03a-953aaad54d0c</td>\n      <td>2019-10-01</td>\n    </tr>\n    <tr>\n      <th>1</th>\n      <td>005741ff-2f2f-4a94-a3ab-a85e7c8ec68d</td>\n      <td>2019-10-12 19:13:27</td>\n      <td>NaN</td>\n      <td>76</td>\n      <td>021ca281-b694-43e8-936a-9cbf98cbbdce</td>\n      <td>2019-10-01</td>\n    </tr>\n    <tr>\n      <th>2</th>\n      <td>01af8353-fac2-4b69-9a09-3bee2405cc24</td>\n      <td>2019-10-28 18:47:58</td>\n      <td>c4ab723c-384e-4ce4-8cf8-0364cf92b86c</td>\n      <td>43</td>\n      <td>e4ecd156-789f-4639-b03a-953aaad54d0c</td>\n      <td>2019-10-01</td>\n    </tr>\n    <tr>\n      <th>3</th>\n      <td>01dc384f-4a83-4782-aaa1-372cede54a95</td>\n      <td>2019-12-05 10:47:22</td>\n      <td>2c7e043a-6e92-4407-aba0-9819d27aec04</td>\n      <td>123</td>\n      <td>9e7135ca-753b-4e5b-bff1-c27d45d1fe85</td>\n      <td>2019-12-01</td>\n    </tr>\n    <tr>\n      <th>4</th>\n      <td>024837d0-6894-4345-a46f-941714eaadd6</td>\n      <td>2019-12-04 11:42:06</td>\n      <td>c209667d-134d-4b6d-969c-403f19873e16</td>\n      <td>7</td>\n      <td>43827957-7c98-436d-9a9b-2eb47096ef67</td>\n      <td>2019-12-01</td>\n    </tr>\n    <tr>\n      <th>...</th>\n      <td>...</td>\n      <td>...</td>\n      <td>...</td>\n      <td>...</td>\n      <td>...</td>\n      <td>...</td>\n    </tr>\n    <tr>\n      <th>340</th>\n      <td>fa35f8d3-5d76-42f1-a5ec-edd49e23dc4b</td>\n      <td>2019-10-24 17:29:27</td>\n      <td>NaN</td>\n      <td>123</td>\n      <td>021ca281-b694-43e8-936a-9cbf98cbbdce</td>\n      <td>2019-10-01</td>\n    </tr>\n    <tr>\n      <th>341</th>\n      <td>fb2f12b1-20cc-44f0-b9c3-d6b0305b12cc</td>\n      <td>2020-01-03 16:11:01</td>\n      <td>7ef198ac-2bb2-42a3-9f9a-8a0cf39bef43</td>\n      <td>123</td>\n      <td>9e7135ca-753b-4e5b-bff1-c27d45d1fe85</td>\n      <td>2020-01-01</td>\n    </tr>\n    <tr>\n      <th>342</th>\n      <td>fe379bae-ca20-43ed-b640-6f4032de838c</td>\n      <td>2019-10-13 11:33:11</td>\n      <td>NaN</td>\n      <td>104</td>\n      <td>021ca281-b694-43e8-936a-9cbf98cbbdce</td>\n      <td>2019-10-01</td>\n    </tr>\n    <tr>\n      <th>343</th>\n      <td>fe5f8728-1801-4df4-a35f-23ca52c89c1c</td>\n      <td>2019-12-03 14:37:00</td>\n      <td>0b7fb9e3-f404-4857-8b78-650f02a101ee</td>\n      <td>123</td>\n      <td>9e7135ca-753b-4e5b-bff1-c27d45d1fe85</td>\n      <td>2019-12-01</td>\n    </tr>\n    <tr>\n      <th>344</th>\n      <td>ff189ff4-10c7-41b4-9875-de088e1acc42</td>\n      <td>2019-10-13 11:33:10</td>\n      <td>NaN</td>\n      <td>43</td>\n      <td>021ca281-b694-43e8-936a-9cbf98cbbdce</td>\n      <td>2019-10-01</td>\n    </tr>\n  </tbody>\n</table>\n<p>345 rows × 6 columns</p>\n</div>"
     },
     "metadata": {},
     "execution_count": 318
    }
   ],
   "source": [
    "transaction_package_hist_df"
   ]
  },
  {
   "cell_type": "code",
   "execution_count": 319,
   "metadata": {},
   "outputs": [],
   "source": [
    "merge_transaction_package_df = pd.merge(transaction_package_hist_df, package_df, left_on='UniqueActionPackageId', right_on='ActionPackagesId')"
   ]
  },
  {
   "cell_type": "code",
   "execution_count": 320,
   "metadata": {},
   "outputs": [
    {
     "output_type": "execute_result",
     "data": {
      "text/plain": [
       "Paket Reward 5-Diamond for Einstein Student         137\n",
       "Paket Einstein + Diamond + Buku Hutata (1 Tahun)     48\n",
       "Paket 5 Diamond                                      47\n",
       "Paket Newton (1 Bulan)                               44\n",
       "Paket Newton Tokopedia (1 Bulan)                     28\n",
       "Paket Tesla Tokopedia (6 Bulan)                      14\n",
       "Paket 5 Diamond TEST EMAIL                           10\n",
       "Paket Einstein (1 Tahun)                              8\n",
       "Paket Bundling Tryout Saintek/Soshum                  3\n",
       "Buku Belajar Cara Belajar versi Cetak                 2\n",
       "Paket Marie Curie (3 Bulan)                           2\n",
       "Registrasi Try Out UTBK#3 IPC                         1\n",
       "Tryout gratis UTBK 2020 #1 - Soshum                   1\n",
       "Name: ActionName, dtype: int64"
      ]
     },
     "metadata": {},
     "execution_count": 320
    }
   ],
   "source": [
    "merge_transaction_package_df['ActionName'].value_counts()"
   ]
  },
  {
   "cell_type": "code",
   "execution_count": 321,
   "metadata": {},
   "outputs": [],
   "source": [
    "merge_transaction_package_df = merge_transaction_package_df.drop(merge_transaction_package_df[merge_transaction_package_df['TotalPrice'] == 0].index)"
   ]
  },
  {
   "cell_type": "code",
   "execution_count": 322,
   "metadata": {},
   "outputs": [],
   "source": [
    "#df_x = merge_transaction_package_df.groupby(['year_month_date'], as_index=True)['TotalPrice'].agg(['sum','count', 'nunique']).reset_index()\n",
    "df_x = merge_transaction_package_df.groupby(['year_month_date'], as_index=True).agg({'TotalPrice':'sum', 'UserId':'nunique', 'UserActionCreatedDate':'count'}).reset_index()\n",
    "df_x['avg'] = df_x['TotalPrice']/df_x['UserActionCreatedDate']\n",
    "df_x = df_x.rename(columns={'UserId': 'UniqueUser', 'UserActionCreatedDate': 'TransactionCount'})"
   ]
  },
  {
   "cell_type": "code",
   "execution_count": 323,
   "metadata": {},
   "outputs": [
    {
     "output_type": "execute_result",
     "data": {
      "text/plain": [
       "  year_month_date  TotalPrice  UniqueUser  TransactionCount            avg\n",
       "0      2019-07-01     2720000          11                60   45333.333333\n",
       "1      2019-08-01      100000           1                 2   50000.000000\n",
       "2      2019-09-01     1300000           5                11  118181.818182\n",
       "3      2019-10-01     3680000          33                65   56615.384615\n",
       "4      2019-11-01     3405000           4                13  261923.076923\n",
       "5      2019-12-01    11025000           5                32  344531.250000\n",
       "6      2020-01-01     8850000           4                24  368750.000000"
      ],
      "text/html": "<div>\n<style scoped>\n    .dataframe tbody tr th:only-of-type {\n        vertical-align: middle;\n    }\n\n    .dataframe tbody tr th {\n        vertical-align: top;\n    }\n\n    .dataframe thead th {\n        text-align: right;\n    }\n</style>\n<table border=\"1\" class=\"dataframe\">\n  <thead>\n    <tr style=\"text-align: right;\">\n      <th></th>\n      <th>year_month_date</th>\n      <th>TotalPrice</th>\n      <th>UniqueUser</th>\n      <th>TransactionCount</th>\n      <th>avg</th>\n    </tr>\n  </thead>\n  <tbody>\n    <tr>\n      <th>0</th>\n      <td>2019-07-01</td>\n      <td>2720000</td>\n      <td>11</td>\n      <td>60</td>\n      <td>45333.333333</td>\n    </tr>\n    <tr>\n      <th>1</th>\n      <td>2019-08-01</td>\n      <td>100000</td>\n      <td>1</td>\n      <td>2</td>\n      <td>50000.000000</td>\n    </tr>\n    <tr>\n      <th>2</th>\n      <td>2019-09-01</td>\n      <td>1300000</td>\n      <td>5</td>\n      <td>11</td>\n      <td>118181.818182</td>\n    </tr>\n    <tr>\n      <th>3</th>\n      <td>2019-10-01</td>\n      <td>3680000</td>\n      <td>33</td>\n      <td>65</td>\n      <td>56615.384615</td>\n    </tr>\n    <tr>\n      <th>4</th>\n      <td>2019-11-01</td>\n      <td>3405000</td>\n      <td>4</td>\n      <td>13</td>\n      <td>261923.076923</td>\n    </tr>\n    <tr>\n      <th>5</th>\n      <td>2019-12-01</td>\n      <td>11025000</td>\n      <td>5</td>\n      <td>32</td>\n      <td>344531.250000</td>\n    </tr>\n    <tr>\n      <th>6</th>\n      <td>2020-01-01</td>\n      <td>8850000</td>\n      <td>4</td>\n      <td>24</td>\n      <td>368750.000000</td>\n    </tr>\n  </tbody>\n</table>\n</div>"
     },
     "metadata": {},
     "execution_count": 323
    }
   ],
   "source": [
    "df_x"
   ]
  },
  {
   "source": [
    "# Churn Rate"
   ],
   "cell_type": "markdown",
   "metadata": {}
  },
  {
   "cell_type": "code",
   "execution_count": 324,
   "metadata": {},
   "outputs": [],
   "source": [
    "user_data_df['RegistrationDate'] = pd.to_datetime(user_data_df['RegistrationDate'])\n",
    "user_data_df['year_month_date'] = user_data_df['RegistrationDate'].dt.strftime('%Y-%m')\n",
    "user_data_df['year_month_date'] = pd.to_datetime(user_data_df['year_month_date'])"
   ]
  },
  {
   "cell_type": "code",
   "execution_count": 325,
   "metadata": {},
   "outputs": [
    {
     "output_type": "execute_result",
     "data": {
      "text/plain": [
       "     UniqueId                           Email           Phone  \\\n",
       "0           1       usertest01@mailinator.com    085612345678   \n",
       "1           2       usertest02@mailinator.com    083212345678   \n",
       "2           3         usertest03@pahamify.com    081212345678   \n",
       "3           4       usertest04@mailinator.com    085612345678   \n",
       "4           5       usertest05@mailinator.com    085612345678   \n",
       "..        ...                             ...             ...   \n",
       "149       153  testuser5+150-2@apps.ipb.ac.id               -   \n",
       "150       154       testuser54@apps.ipb.ac.id               -   \n",
       "151       155         testuser55@pahamify.com     08571231243   \n",
       "152       156            testuser56@gmail.com    085712332112   \n",
       "153       157            testuser57@gmail.com  +6285612332112   \n",
       "\n",
       "     confirmationEmail    RegistrationDate year_month_date  \n",
       "0                    0 2018-05-07 22:52:03      2018-05-01  \n",
       "1                    0 2018-03-17 14:57:38      2018-03-01  \n",
       "2                    1 2018-03-17 14:57:38      2018-03-01  \n",
       "3                    0 2018-03-17 14:57:38      2018-03-01  \n",
       "4                    0 2018-03-17 14:57:38      2018-03-01  \n",
       "..                 ...                 ...             ...  \n",
       "149                  1 2020-01-03 09:42:15      2020-01-01  \n",
       "150                  1 2020-01-03 09:55:24      2020-01-01  \n",
       "151                  1 2020-01-06 11:20:31      2020-01-01  \n",
       "152                  1 2020-01-09 09:55:01      2020-01-01  \n",
       "153                  1 2020-01-13 06:06:55      2020-01-01  \n",
       "\n",
       "[154 rows x 6 columns]"
      ],
      "text/html": "<div>\n<style scoped>\n    .dataframe tbody tr th:only-of-type {\n        vertical-align: middle;\n    }\n\n    .dataframe tbody tr th {\n        vertical-align: top;\n    }\n\n    .dataframe thead th {\n        text-align: right;\n    }\n</style>\n<table border=\"1\" class=\"dataframe\">\n  <thead>\n    <tr style=\"text-align: right;\">\n      <th></th>\n      <th>UniqueId</th>\n      <th>Email</th>\n      <th>Phone</th>\n      <th>confirmationEmail</th>\n      <th>RegistrationDate</th>\n      <th>year_month_date</th>\n    </tr>\n  </thead>\n  <tbody>\n    <tr>\n      <th>0</th>\n      <td>1</td>\n      <td>usertest01@mailinator.com</td>\n      <td>085612345678</td>\n      <td>0</td>\n      <td>2018-05-07 22:52:03</td>\n      <td>2018-05-01</td>\n    </tr>\n    <tr>\n      <th>1</th>\n      <td>2</td>\n      <td>usertest02@mailinator.com</td>\n      <td>083212345678</td>\n      <td>0</td>\n      <td>2018-03-17 14:57:38</td>\n      <td>2018-03-01</td>\n    </tr>\n    <tr>\n      <th>2</th>\n      <td>3</td>\n      <td>usertest03@pahamify.com</td>\n      <td>081212345678</td>\n      <td>1</td>\n      <td>2018-03-17 14:57:38</td>\n      <td>2018-03-01</td>\n    </tr>\n    <tr>\n      <th>3</th>\n      <td>4</td>\n      <td>usertest04@mailinator.com</td>\n      <td>085612345678</td>\n      <td>0</td>\n      <td>2018-03-17 14:57:38</td>\n      <td>2018-03-01</td>\n    </tr>\n    <tr>\n      <th>4</th>\n      <td>5</td>\n      <td>usertest05@mailinator.com</td>\n      <td>085612345678</td>\n      <td>0</td>\n      <td>2018-03-17 14:57:38</td>\n      <td>2018-03-01</td>\n    </tr>\n    <tr>\n      <th>...</th>\n      <td>...</td>\n      <td>...</td>\n      <td>...</td>\n      <td>...</td>\n      <td>...</td>\n      <td>...</td>\n    </tr>\n    <tr>\n      <th>149</th>\n      <td>153</td>\n      <td>testuser5+150-2@apps.ipb.ac.id</td>\n      <td>-</td>\n      <td>1</td>\n      <td>2020-01-03 09:42:15</td>\n      <td>2020-01-01</td>\n    </tr>\n    <tr>\n      <th>150</th>\n      <td>154</td>\n      <td>testuser54@apps.ipb.ac.id</td>\n      <td>-</td>\n      <td>1</td>\n      <td>2020-01-03 09:55:24</td>\n      <td>2020-01-01</td>\n    </tr>\n    <tr>\n      <th>151</th>\n      <td>155</td>\n      <td>testuser55@pahamify.com</td>\n      <td>08571231243</td>\n      <td>1</td>\n      <td>2020-01-06 11:20:31</td>\n      <td>2020-01-01</td>\n    </tr>\n    <tr>\n      <th>152</th>\n      <td>156</td>\n      <td>testuser56@gmail.com</td>\n      <td>085712332112</td>\n      <td>1</td>\n      <td>2020-01-09 09:55:01</td>\n      <td>2020-01-01</td>\n    </tr>\n    <tr>\n      <th>153</th>\n      <td>157</td>\n      <td>testuser57@gmail.com</td>\n      <td>+6285612332112</td>\n      <td>1</td>\n      <td>2020-01-13 06:06:55</td>\n      <td>2020-01-01</td>\n    </tr>\n  </tbody>\n</table>\n<p>154 rows × 6 columns</p>\n</div>"
     },
     "metadata": {},
     "execution_count": 325
    }
   ],
   "source": [
    "user_data_df"
   ]
  },
  {
   "cell_type": "code",
   "execution_count": 326,
   "metadata": {},
   "outputs": [],
   "source": [
    "df_y = user_data_df.groupby(['year_month_date'], as_index=True)['UniqueId'].agg('count').reset_index()"
   ]
  },
  {
   "cell_type": "code",
   "execution_count": 327,
   "metadata": {},
   "outputs": [],
   "source": [
    "df_y['total_user'] = df_y['UniqueId'].cumsum()"
   ]
  },
  {
   "cell_type": "code",
   "execution_count": 328,
   "metadata": {},
   "outputs": [
    {
     "output_type": "execute_result",
     "data": {
      "text/plain": [
       "   year_month_date  UniqueId  total_user\n",
       "0       2018-03-01         6           6\n",
       "1       2018-05-01         5          11\n",
       "2       2018-07-01        13          24\n",
       "3       2018-08-01        53          77\n",
       "4       2018-09-01         2          79\n",
       "5       2018-10-01         3          82\n",
       "6       2019-02-01        14          96\n",
       "7       2019-03-01         3          99\n",
       "8       2019-04-01         3         102\n",
       "9       2019-05-01         8         110\n",
       "10      2019-06-01         2         112\n",
       "11      2019-07-01         3         115\n",
       "12      2019-08-01         4         119\n",
       "13      2019-09-01         8         127\n",
       "14      2019-10-01        11         138\n",
       "15      2019-11-01         8         146\n",
       "16      2019-12-01         2         148\n",
       "17      2020-01-01         6         154"
      ],
      "text/html": "<div>\n<style scoped>\n    .dataframe tbody tr th:only-of-type {\n        vertical-align: middle;\n    }\n\n    .dataframe tbody tr th {\n        vertical-align: top;\n    }\n\n    .dataframe thead th {\n        text-align: right;\n    }\n</style>\n<table border=\"1\" class=\"dataframe\">\n  <thead>\n    <tr style=\"text-align: right;\">\n      <th></th>\n      <th>year_month_date</th>\n      <th>UniqueId</th>\n      <th>total_user</th>\n    </tr>\n  </thead>\n  <tbody>\n    <tr>\n      <th>0</th>\n      <td>2018-03-01</td>\n      <td>6</td>\n      <td>6</td>\n    </tr>\n    <tr>\n      <th>1</th>\n      <td>2018-05-01</td>\n      <td>5</td>\n      <td>11</td>\n    </tr>\n    <tr>\n      <th>2</th>\n      <td>2018-07-01</td>\n      <td>13</td>\n      <td>24</td>\n    </tr>\n    <tr>\n      <th>3</th>\n      <td>2018-08-01</td>\n      <td>53</td>\n      <td>77</td>\n    </tr>\n    <tr>\n      <th>4</th>\n      <td>2018-09-01</td>\n      <td>2</td>\n      <td>79</td>\n    </tr>\n    <tr>\n      <th>5</th>\n      <td>2018-10-01</td>\n      <td>3</td>\n      <td>82</td>\n    </tr>\n    <tr>\n      <th>6</th>\n      <td>2019-02-01</td>\n      <td>14</td>\n      <td>96</td>\n    </tr>\n    <tr>\n      <th>7</th>\n      <td>2019-03-01</td>\n      <td>3</td>\n      <td>99</td>\n    </tr>\n    <tr>\n      <th>8</th>\n      <td>2019-04-01</td>\n      <td>3</td>\n      <td>102</td>\n    </tr>\n    <tr>\n      <th>9</th>\n      <td>2019-05-01</td>\n      <td>8</td>\n      <td>110</td>\n    </tr>\n    <tr>\n      <th>10</th>\n      <td>2019-06-01</td>\n      <td>2</td>\n      <td>112</td>\n    </tr>\n    <tr>\n      <th>11</th>\n      <td>2019-07-01</td>\n      <td>3</td>\n      <td>115</td>\n    </tr>\n    <tr>\n      <th>12</th>\n      <td>2019-08-01</td>\n      <td>4</td>\n      <td>119</td>\n    </tr>\n    <tr>\n      <th>13</th>\n      <td>2019-09-01</td>\n      <td>8</td>\n      <td>127</td>\n    </tr>\n    <tr>\n      <th>14</th>\n      <td>2019-10-01</td>\n      <td>11</td>\n      <td>138</td>\n    </tr>\n    <tr>\n      <th>15</th>\n      <td>2019-11-01</td>\n      <td>8</td>\n      <td>146</td>\n    </tr>\n    <tr>\n      <th>16</th>\n      <td>2019-12-01</td>\n      <td>2</td>\n      <td>148</td>\n    </tr>\n    <tr>\n      <th>17</th>\n      <td>2020-01-01</td>\n      <td>6</td>\n      <td>154</td>\n    </tr>\n  </tbody>\n</table>\n</div>"
     },
     "metadata": {},
     "execution_count": 328
    }
   ],
   "source": [
    "df_y"
   ]
  },
  {
   "cell_type": "code",
   "execution_count": 329,
   "metadata": {},
   "outputs": [],
   "source": [
    "user_status_df['PackageEndDate'] = pd.to_datetime(user_status_df['PackageEndDate'])\n",
    "user_status_df['year_month_date'] = user_status_df['PackageEndDate'].dt.strftime('%Y-%m')\n",
    "user_status_df['year_month_date'] = pd.to_datetime(user_status_df['year_month_date'])"
   ]
  },
  {
   "cell_type": "code",
   "execution_count": 330,
   "metadata": {},
   "outputs": [
    {
     "output_type": "execute_result",
     "data": {
      "text/plain": [
       "    UniqueId  UserPremiumStatus      PackageEndDate UserStatusCreatedDate  \\\n",
       "0          1                  0 2019-09-25 03:09:31   2019-09-18 03:09:31   \n",
       "1          2                  0 2019-09-25 03:09:45   2019-09-18 03:09:45   \n",
       "2          3                  0 2019-09-25 03:09:47   2019-09-18 03:09:47   \n",
       "3          4                  0 2019-09-25 03:09:48   2019-09-18 03:09:48   \n",
       "4          7                  1 2027-02-27 03:19:15   2018-08-06 09:56:13   \n",
       "..       ...                ...                 ...                   ...   \n",
       "57       153                  1 2021-01-02 09:54:12   2020-01-03 09:42:15   \n",
       "58       154                  1 2022-02-01 09:56:10   2020-01-03 09:55:24   \n",
       "59       155                  0 2020-01-06 11:20:58   2020-01-06 11:20:58   \n",
       "60       156                  0 2020-01-09 09:55:19   2020-01-09 09:55:19   \n",
       "61       157                  0 2020-01-13 06:07:18   2020-01-13 06:07:18   \n",
       "\n",
       "   UserStatusLastUpdate  CurrentDiamond year_month_date  \n",
       "0   2020-01-02 23:45:00               0      2019-09-01  \n",
       "1   2020-01-02 23:45:00               0      2019-09-01  \n",
       "2   2020-01-02 23:45:00              15      2019-09-01  \n",
       "3   2020-01-02 23:45:00               0      2019-09-01  \n",
       "4   2020-01-09 02:44:01              52      2027-02-01  \n",
       "..                  ...             ...             ...  \n",
       "57  2020-01-03 09:54:12               5      2021-01-01  \n",
       "58  2020-01-03 10:10:03              10      2022-02-01  \n",
       "59  2020-01-13 06:53:22             977      2020-01-01  \n",
       "60  2020-01-09 09:55:19               0      2020-01-01  \n",
       "61  2020-01-13 06:07:18               0      2020-01-01  \n",
       "\n",
       "[62 rows x 7 columns]"
      ],
      "text/html": "<div>\n<style scoped>\n    .dataframe tbody tr th:only-of-type {\n        vertical-align: middle;\n    }\n\n    .dataframe tbody tr th {\n        vertical-align: top;\n    }\n\n    .dataframe thead th {\n        text-align: right;\n    }\n</style>\n<table border=\"1\" class=\"dataframe\">\n  <thead>\n    <tr style=\"text-align: right;\">\n      <th></th>\n      <th>UniqueId</th>\n      <th>UserPremiumStatus</th>\n      <th>PackageEndDate</th>\n      <th>UserStatusCreatedDate</th>\n      <th>UserStatusLastUpdate</th>\n      <th>CurrentDiamond</th>\n      <th>year_month_date</th>\n    </tr>\n  </thead>\n  <tbody>\n    <tr>\n      <th>0</th>\n      <td>1</td>\n      <td>0</td>\n      <td>2019-09-25 03:09:31</td>\n      <td>2019-09-18 03:09:31</td>\n      <td>2020-01-02 23:45:00</td>\n      <td>0</td>\n      <td>2019-09-01</td>\n    </tr>\n    <tr>\n      <th>1</th>\n      <td>2</td>\n      <td>0</td>\n      <td>2019-09-25 03:09:45</td>\n      <td>2019-09-18 03:09:45</td>\n      <td>2020-01-02 23:45:00</td>\n      <td>0</td>\n      <td>2019-09-01</td>\n    </tr>\n    <tr>\n      <th>2</th>\n      <td>3</td>\n      <td>0</td>\n      <td>2019-09-25 03:09:47</td>\n      <td>2019-09-18 03:09:47</td>\n      <td>2020-01-02 23:45:00</td>\n      <td>15</td>\n      <td>2019-09-01</td>\n    </tr>\n    <tr>\n      <th>3</th>\n      <td>4</td>\n      <td>0</td>\n      <td>2019-09-25 03:09:48</td>\n      <td>2019-09-18 03:09:48</td>\n      <td>2020-01-02 23:45:00</td>\n      <td>0</td>\n      <td>2019-09-01</td>\n    </tr>\n    <tr>\n      <th>4</th>\n      <td>7</td>\n      <td>1</td>\n      <td>2027-02-27 03:19:15</td>\n      <td>2018-08-06 09:56:13</td>\n      <td>2020-01-09 02:44:01</td>\n      <td>52</td>\n      <td>2027-02-01</td>\n    </tr>\n    <tr>\n      <th>...</th>\n      <td>...</td>\n      <td>...</td>\n      <td>...</td>\n      <td>...</td>\n      <td>...</td>\n      <td>...</td>\n      <td>...</td>\n    </tr>\n    <tr>\n      <th>57</th>\n      <td>153</td>\n      <td>1</td>\n      <td>2021-01-02 09:54:12</td>\n      <td>2020-01-03 09:42:15</td>\n      <td>2020-01-03 09:54:12</td>\n      <td>5</td>\n      <td>2021-01-01</td>\n    </tr>\n    <tr>\n      <th>58</th>\n      <td>154</td>\n      <td>1</td>\n      <td>2022-02-01 09:56:10</td>\n      <td>2020-01-03 09:55:24</td>\n      <td>2020-01-03 10:10:03</td>\n      <td>10</td>\n      <td>2022-02-01</td>\n    </tr>\n    <tr>\n      <th>59</th>\n      <td>155</td>\n      <td>0</td>\n      <td>2020-01-06 11:20:58</td>\n      <td>2020-01-06 11:20:58</td>\n      <td>2020-01-13 06:53:22</td>\n      <td>977</td>\n      <td>2020-01-01</td>\n    </tr>\n    <tr>\n      <th>60</th>\n      <td>156</td>\n      <td>0</td>\n      <td>2020-01-09 09:55:19</td>\n      <td>2020-01-09 09:55:19</td>\n      <td>2020-01-09 09:55:19</td>\n      <td>0</td>\n      <td>2020-01-01</td>\n    </tr>\n    <tr>\n      <th>61</th>\n      <td>157</td>\n      <td>0</td>\n      <td>2020-01-13 06:07:18</td>\n      <td>2020-01-13 06:07:18</td>\n      <td>2020-01-13 06:07:18</td>\n      <td>0</td>\n      <td>2020-01-01</td>\n    </tr>\n  </tbody>\n</table>\n<p>62 rows × 7 columns</p>\n</div>"
     },
     "metadata": {},
     "execution_count": 330
    }
   ],
   "source": [
    "user_status_df"
   ]
  },
  {
   "cell_type": "code",
   "execution_count": 331,
   "metadata": {},
   "outputs": [],
   "source": [
    "df_z = user_status_df.groupby(['year_month_date'], as_index=True)['UniqueId'].agg('count').reset_index()"
   ]
  },
  {
   "cell_type": "code",
   "execution_count": 332,
   "metadata": {},
   "outputs": [
    {
     "output_type": "execute_result",
     "data": {
      "text/plain": [
       "   year_month_date  UniqueId\n",
       "0       2018-08-01         6\n",
       "1       2018-09-01         1\n",
       "2       2019-08-01         4\n",
       "3       2019-09-01        12\n",
       "4       2019-10-01         8\n",
       "5       2019-11-01        11\n",
       "6       2019-12-01         4\n",
       "7       2020-01-01         3\n",
       "8       2020-02-01         1\n",
       "9       2020-04-01         1\n",
       "10      2020-08-01         1\n",
       "11      2020-12-01         2\n",
       "12      2021-01-01         1\n",
       "13      2021-10-01         1\n",
       "14      2021-11-01         1\n",
       "15      2022-02-01         1\n",
       "16      2022-08-01         1\n",
       "17      2023-07-01         1\n",
       "18      2027-02-01         1\n",
       "19      2062-06-01         1"
      ],
      "text/html": "<div>\n<style scoped>\n    .dataframe tbody tr th:only-of-type {\n        vertical-align: middle;\n    }\n\n    .dataframe tbody tr th {\n        vertical-align: top;\n    }\n\n    .dataframe thead th {\n        text-align: right;\n    }\n</style>\n<table border=\"1\" class=\"dataframe\">\n  <thead>\n    <tr style=\"text-align: right;\">\n      <th></th>\n      <th>year_month_date</th>\n      <th>UniqueId</th>\n    </tr>\n  </thead>\n  <tbody>\n    <tr>\n      <th>0</th>\n      <td>2018-08-01</td>\n      <td>6</td>\n    </tr>\n    <tr>\n      <th>1</th>\n      <td>2018-09-01</td>\n      <td>1</td>\n    </tr>\n    <tr>\n      <th>2</th>\n      <td>2019-08-01</td>\n      <td>4</td>\n    </tr>\n    <tr>\n      <th>3</th>\n      <td>2019-09-01</td>\n      <td>12</td>\n    </tr>\n    <tr>\n      <th>4</th>\n      <td>2019-10-01</td>\n      <td>8</td>\n    </tr>\n    <tr>\n      <th>5</th>\n      <td>2019-11-01</td>\n      <td>11</td>\n    </tr>\n    <tr>\n      <th>6</th>\n      <td>2019-12-01</td>\n      <td>4</td>\n    </tr>\n    <tr>\n      <th>7</th>\n      <td>2020-01-01</td>\n      <td>3</td>\n    </tr>\n    <tr>\n      <th>8</th>\n      <td>2020-02-01</td>\n      <td>1</td>\n    </tr>\n    <tr>\n      <th>9</th>\n      <td>2020-04-01</td>\n      <td>1</td>\n    </tr>\n    <tr>\n      <th>10</th>\n      <td>2020-08-01</td>\n      <td>1</td>\n    </tr>\n    <tr>\n      <th>11</th>\n      <td>2020-12-01</td>\n      <td>2</td>\n    </tr>\n    <tr>\n      <th>12</th>\n      <td>2021-01-01</td>\n      <td>1</td>\n    </tr>\n    <tr>\n      <th>13</th>\n      <td>2021-10-01</td>\n      <td>1</td>\n    </tr>\n    <tr>\n      <th>14</th>\n      <td>2021-11-01</td>\n      <td>1</td>\n    </tr>\n    <tr>\n      <th>15</th>\n      <td>2022-02-01</td>\n      <td>1</td>\n    </tr>\n    <tr>\n      <th>16</th>\n      <td>2022-08-01</td>\n      <td>1</td>\n    </tr>\n    <tr>\n      <th>17</th>\n      <td>2023-07-01</td>\n      <td>1</td>\n    </tr>\n    <tr>\n      <th>18</th>\n      <td>2027-02-01</td>\n      <td>1</td>\n    </tr>\n    <tr>\n      <th>19</th>\n      <td>2062-06-01</td>\n      <td>1</td>\n    </tr>\n  </tbody>\n</table>\n</div>"
     },
     "metadata": {},
     "execution_count": 332
    }
   ],
   "source": [
    "df_z"
   ]
  },
  {
   "cell_type": "code",
   "execution_count": 333,
   "metadata": {},
   "outputs": [],
   "source": [
    "merge_user_df = pd.merge(df_y, df_z, on='year_month_date')\n",
    "merge_user_df = merge_user_df.rename(columns={'UniqueId_x': 'NewUser', 'UniqueId_y': 'UserLeave'})"
   ]
  },
  {
   "cell_type": "code",
   "execution_count": 334,
   "metadata": {},
   "outputs": [
    {
     "output_type": "execute_result",
     "data": {
      "text/plain": [
       "  year_month_date  NewUser  total_user  UserLeave\n",
       "0      2018-08-01       53          77          6\n",
       "1      2018-09-01        2          79          1\n",
       "2      2019-08-01        4         119          4\n",
       "3      2019-09-01        8         127         12\n",
       "4      2019-10-01       11         138          8\n",
       "5      2019-11-01        8         146         11\n",
       "6      2019-12-01        2         148          4\n",
       "7      2020-01-01        6         154          3"
      ],
      "text/html": "<div>\n<style scoped>\n    .dataframe tbody tr th:only-of-type {\n        vertical-align: middle;\n    }\n\n    .dataframe tbody tr th {\n        vertical-align: top;\n    }\n\n    .dataframe thead th {\n        text-align: right;\n    }\n</style>\n<table border=\"1\" class=\"dataframe\">\n  <thead>\n    <tr style=\"text-align: right;\">\n      <th></th>\n      <th>year_month_date</th>\n      <th>NewUser</th>\n      <th>total_user</th>\n      <th>UserLeave</th>\n    </tr>\n  </thead>\n  <tbody>\n    <tr>\n      <th>0</th>\n      <td>2018-08-01</td>\n      <td>53</td>\n      <td>77</td>\n      <td>6</td>\n    </tr>\n    <tr>\n      <th>1</th>\n      <td>2018-09-01</td>\n      <td>2</td>\n      <td>79</td>\n      <td>1</td>\n    </tr>\n    <tr>\n      <th>2</th>\n      <td>2019-08-01</td>\n      <td>4</td>\n      <td>119</td>\n      <td>4</td>\n    </tr>\n    <tr>\n      <th>3</th>\n      <td>2019-09-01</td>\n      <td>8</td>\n      <td>127</td>\n      <td>12</td>\n    </tr>\n    <tr>\n      <th>4</th>\n      <td>2019-10-01</td>\n      <td>11</td>\n      <td>138</td>\n      <td>8</td>\n    </tr>\n    <tr>\n      <th>5</th>\n      <td>2019-11-01</td>\n      <td>8</td>\n      <td>146</td>\n      <td>11</td>\n    </tr>\n    <tr>\n      <th>6</th>\n      <td>2019-12-01</td>\n      <td>2</td>\n      <td>148</td>\n      <td>4</td>\n    </tr>\n    <tr>\n      <th>7</th>\n      <td>2020-01-01</td>\n      <td>6</td>\n      <td>154</td>\n      <td>3</td>\n    </tr>\n  </tbody>\n</table>\n</div>"
     },
     "metadata": {},
     "execution_count": 334
    }
   ],
   "source": [
    "merge_user_df"
   ]
  },
  {
   "cell_type": "code",
   "execution_count": 336,
   "metadata": {},
   "outputs": [],
   "source": [
    "merge_user_df['cr'] = merge_user_df['UserLeave'] / merge_user_df['total_user'] * 100"
   ]
  },
  {
   "cell_type": "code",
   "execution_count": 337,
   "metadata": {},
   "outputs": [
    {
     "output_type": "execute_result",
     "data": {
      "text/plain": [
       "  year_month_date  NewUser  total_user  UserLeave        cr\n",
       "0      2018-08-01       53          77          6  7.792208\n",
       "1      2018-09-01        2          79          1  1.265823\n",
       "2      2019-08-01        4         119          4  3.361345\n",
       "3      2019-09-01        8         127         12  9.448819\n",
       "4      2019-10-01       11         138          8  5.797101\n",
       "5      2019-11-01        8         146         11  7.534247\n",
       "6      2019-12-01        2         148          4  2.702703\n",
       "7      2020-01-01        6         154          3  1.948052"
      ],
      "text/html": "<div>\n<style scoped>\n    .dataframe tbody tr th:only-of-type {\n        vertical-align: middle;\n    }\n\n    .dataframe tbody tr th {\n        vertical-align: top;\n    }\n\n    .dataframe thead th {\n        text-align: right;\n    }\n</style>\n<table border=\"1\" class=\"dataframe\">\n  <thead>\n    <tr style=\"text-align: right;\">\n      <th></th>\n      <th>year_month_date</th>\n      <th>NewUser</th>\n      <th>total_user</th>\n      <th>UserLeave</th>\n      <th>cr</th>\n    </tr>\n  </thead>\n  <tbody>\n    <tr>\n      <th>0</th>\n      <td>2018-08-01</td>\n      <td>53</td>\n      <td>77</td>\n      <td>6</td>\n      <td>7.792208</td>\n    </tr>\n    <tr>\n      <th>1</th>\n      <td>2018-09-01</td>\n      <td>2</td>\n      <td>79</td>\n      <td>1</td>\n      <td>1.265823</td>\n    </tr>\n    <tr>\n      <th>2</th>\n      <td>2019-08-01</td>\n      <td>4</td>\n      <td>119</td>\n      <td>4</td>\n      <td>3.361345</td>\n    </tr>\n    <tr>\n      <th>3</th>\n      <td>2019-09-01</td>\n      <td>8</td>\n      <td>127</td>\n      <td>12</td>\n      <td>9.448819</td>\n    </tr>\n    <tr>\n      <th>4</th>\n      <td>2019-10-01</td>\n      <td>11</td>\n      <td>138</td>\n      <td>8</td>\n      <td>5.797101</td>\n    </tr>\n    <tr>\n      <th>5</th>\n      <td>2019-11-01</td>\n      <td>8</td>\n      <td>146</td>\n      <td>11</td>\n      <td>7.534247</td>\n    </tr>\n    <tr>\n      <th>6</th>\n      <td>2019-12-01</td>\n      <td>2</td>\n      <td>148</td>\n      <td>4</td>\n      <td>2.702703</td>\n    </tr>\n    <tr>\n      <th>7</th>\n      <td>2020-01-01</td>\n      <td>6</td>\n      <td>154</td>\n      <td>3</td>\n      <td>1.948052</td>\n    </tr>\n  </tbody>\n</table>\n</div>"
     },
     "metadata": {},
     "execution_count": 337
    }
   ],
   "source": [
    "merge_user_df"
   ]
  },
  {
   "source": [
    "# Lifetime Value "
   ],
   "cell_type": "markdown",
   "metadata": {}
  },
  {
   "cell_type": "code",
   "execution_count": 339,
   "metadata": {},
   "outputs": [],
   "source": [
    "df_x['avg_purchase_freq'] = df_x['TransactionCount'] / df_x['UniqueUser']\n",
    "df_x['CustomerValue'] = df_x['avg'] * df_x['avg_purchase_freq'] \n",
    "df_x['CustomerValue'] = df_x['CustomerValue'].apply(lambda x: float(\"{:.2f}\".format(x)))"
   ]
  },
  {
   "cell_type": "code",
   "execution_count": 340,
   "metadata": {},
   "outputs": [
    {
     "output_type": "execute_result",
     "data": {
      "text/plain": [
       "  year_month_date  TotalPrice  UniqueUser  TransactionCount            avg  \\\n",
       "0      2019-07-01     2720000          11                60   45333.333333   \n",
       "1      2019-08-01      100000           1                 2   50000.000000   \n",
       "2      2019-09-01     1300000           5                11  118181.818182   \n",
       "3      2019-10-01     3680000          33                65   56615.384615   \n",
       "4      2019-11-01     3405000           4                13  261923.076923   \n",
       "5      2019-12-01    11025000           5                32  344531.250000   \n",
       "6      2020-01-01     8850000           4                24  368750.000000   \n",
       "\n",
       "   avg_purchase_freq  CustomerValue  \n",
       "0           5.454545      247272.73  \n",
       "1           2.000000      100000.00  \n",
       "2           2.200000      260000.00  \n",
       "3           1.969697      111515.15  \n",
       "4           3.250000      851250.00  \n",
       "5           6.400000     2205000.00  \n",
       "6           6.000000     2212500.00  "
      ],
      "text/html": "<div>\n<style scoped>\n    .dataframe tbody tr th:only-of-type {\n        vertical-align: middle;\n    }\n\n    .dataframe tbody tr th {\n        vertical-align: top;\n    }\n\n    .dataframe thead th {\n        text-align: right;\n    }\n</style>\n<table border=\"1\" class=\"dataframe\">\n  <thead>\n    <tr style=\"text-align: right;\">\n      <th></th>\n      <th>year_month_date</th>\n      <th>TotalPrice</th>\n      <th>UniqueUser</th>\n      <th>TransactionCount</th>\n      <th>avg</th>\n      <th>avg_purchase_freq</th>\n      <th>CustomerValue</th>\n    </tr>\n  </thead>\n  <tbody>\n    <tr>\n      <th>0</th>\n      <td>2019-07-01</td>\n      <td>2720000</td>\n      <td>11</td>\n      <td>60</td>\n      <td>45333.333333</td>\n      <td>5.454545</td>\n      <td>247272.73</td>\n    </tr>\n    <tr>\n      <th>1</th>\n      <td>2019-08-01</td>\n      <td>100000</td>\n      <td>1</td>\n      <td>2</td>\n      <td>50000.000000</td>\n      <td>2.000000</td>\n      <td>100000.00</td>\n    </tr>\n    <tr>\n      <th>2</th>\n      <td>2019-09-01</td>\n      <td>1300000</td>\n      <td>5</td>\n      <td>11</td>\n      <td>118181.818182</td>\n      <td>2.200000</td>\n      <td>260000.00</td>\n    </tr>\n    <tr>\n      <th>3</th>\n      <td>2019-10-01</td>\n      <td>3680000</td>\n      <td>33</td>\n      <td>65</td>\n      <td>56615.384615</td>\n      <td>1.969697</td>\n      <td>111515.15</td>\n    </tr>\n    <tr>\n      <th>4</th>\n      <td>2019-11-01</td>\n      <td>3405000</td>\n      <td>4</td>\n      <td>13</td>\n      <td>261923.076923</td>\n      <td>3.250000</td>\n      <td>851250.00</td>\n    </tr>\n    <tr>\n      <th>5</th>\n      <td>2019-12-01</td>\n      <td>11025000</td>\n      <td>5</td>\n      <td>32</td>\n      <td>344531.250000</td>\n      <td>6.400000</td>\n      <td>2205000.00</td>\n    </tr>\n    <tr>\n      <th>6</th>\n      <td>2020-01-01</td>\n      <td>8850000</td>\n      <td>4</td>\n      <td>24</td>\n      <td>368750.000000</td>\n      <td>6.000000</td>\n      <td>2212500.00</td>\n    </tr>\n  </tbody>\n</table>\n</div>"
     },
     "metadata": {},
     "execution_count": 340
    }
   ],
   "source": [
    "df_x"
   ]
  },
  {
   "cell_type": "code",
   "execution_count": 342,
   "metadata": {},
   "outputs": [
    {
     "output_type": "execute_result",
     "data": {
      "text/plain": [
       "    UniqueId  UserPremiumStatus      PackageEndDate UserStatusCreatedDate  \\\n",
       "0          1                  0 2019-09-25 03:09:31   2019-09-18 03:09:31   \n",
       "1          2                  0 2019-09-25 03:09:45   2019-09-18 03:09:45   \n",
       "2          3                  0 2019-09-25 03:09:47   2019-09-18 03:09:47   \n",
       "3          4                  0 2019-09-25 03:09:48   2019-09-18 03:09:48   \n",
       "4          7                  1 2027-02-27 03:19:15   2018-08-06 09:56:13   \n",
       "..       ...                ...                 ...                   ...   \n",
       "57       153                  1 2021-01-02 09:54:12   2020-01-03 09:42:15   \n",
       "58       154                  1 2022-02-01 09:56:10   2020-01-03 09:55:24   \n",
       "59       155                  0 2020-01-06 11:20:58   2020-01-06 11:20:58   \n",
       "60       156                  0 2020-01-09 09:55:19   2020-01-09 09:55:19   \n",
       "61       157                  0 2020-01-13 06:07:18   2020-01-13 06:07:18   \n",
       "\n",
       "   UserStatusLastUpdate  CurrentDiamond year_month_date  \n",
       "0   2020-01-02 23:45:00               0      2019-09-01  \n",
       "1   2020-01-02 23:45:00               0      2019-09-01  \n",
       "2   2020-01-02 23:45:00              15      2019-09-01  \n",
       "3   2020-01-02 23:45:00               0      2019-09-01  \n",
       "4   2020-01-09 02:44:01              52      2027-02-01  \n",
       "..                  ...             ...             ...  \n",
       "57  2020-01-03 09:54:12               5      2021-01-01  \n",
       "58  2020-01-03 10:10:03              10      2022-02-01  \n",
       "59  2020-01-13 06:53:22             977      2020-01-01  \n",
       "60  2020-01-09 09:55:19               0      2020-01-01  \n",
       "61  2020-01-13 06:07:18               0      2020-01-01  \n",
       "\n",
       "[62 rows x 7 columns]"
      ],
      "text/html": "<div>\n<style scoped>\n    .dataframe tbody tr th:only-of-type {\n        vertical-align: middle;\n    }\n\n    .dataframe tbody tr th {\n        vertical-align: top;\n    }\n\n    .dataframe thead th {\n        text-align: right;\n    }\n</style>\n<table border=\"1\" class=\"dataframe\">\n  <thead>\n    <tr style=\"text-align: right;\">\n      <th></th>\n      <th>UniqueId</th>\n      <th>UserPremiumStatus</th>\n      <th>PackageEndDate</th>\n      <th>UserStatusCreatedDate</th>\n      <th>UserStatusLastUpdate</th>\n      <th>CurrentDiamond</th>\n      <th>year_month_date</th>\n    </tr>\n  </thead>\n  <tbody>\n    <tr>\n      <th>0</th>\n      <td>1</td>\n      <td>0</td>\n      <td>2019-09-25 03:09:31</td>\n      <td>2019-09-18 03:09:31</td>\n      <td>2020-01-02 23:45:00</td>\n      <td>0</td>\n      <td>2019-09-01</td>\n    </tr>\n    <tr>\n      <th>1</th>\n      <td>2</td>\n      <td>0</td>\n      <td>2019-09-25 03:09:45</td>\n      <td>2019-09-18 03:09:45</td>\n      <td>2020-01-02 23:45:00</td>\n      <td>0</td>\n      <td>2019-09-01</td>\n    </tr>\n    <tr>\n      <th>2</th>\n      <td>3</td>\n      <td>0</td>\n      <td>2019-09-25 03:09:47</td>\n      <td>2019-09-18 03:09:47</td>\n      <td>2020-01-02 23:45:00</td>\n      <td>15</td>\n      <td>2019-09-01</td>\n    </tr>\n    <tr>\n      <th>3</th>\n      <td>4</td>\n      <td>0</td>\n      <td>2019-09-25 03:09:48</td>\n      <td>2019-09-18 03:09:48</td>\n      <td>2020-01-02 23:45:00</td>\n      <td>0</td>\n      <td>2019-09-01</td>\n    </tr>\n    <tr>\n      <th>4</th>\n      <td>7</td>\n      <td>1</td>\n      <td>2027-02-27 03:19:15</td>\n      <td>2018-08-06 09:56:13</td>\n      <td>2020-01-09 02:44:01</td>\n      <td>52</td>\n      <td>2027-02-01</td>\n    </tr>\n    <tr>\n      <th>...</th>\n      <td>...</td>\n      <td>...</td>\n      <td>...</td>\n      <td>...</td>\n      <td>...</td>\n      <td>...</td>\n      <td>...</td>\n    </tr>\n    <tr>\n      <th>57</th>\n      <td>153</td>\n      <td>1</td>\n      <td>2021-01-02 09:54:12</td>\n      <td>2020-01-03 09:42:15</td>\n      <td>2020-01-03 09:54:12</td>\n      <td>5</td>\n      <td>2021-01-01</td>\n    </tr>\n    <tr>\n      <th>58</th>\n      <td>154</td>\n      <td>1</td>\n      <td>2022-02-01 09:56:10</td>\n      <td>2020-01-03 09:55:24</td>\n      <td>2020-01-03 10:10:03</td>\n      <td>10</td>\n      <td>2022-02-01</td>\n    </tr>\n    <tr>\n      <th>59</th>\n      <td>155</td>\n      <td>0</td>\n      <td>2020-01-06 11:20:58</td>\n      <td>2020-01-06 11:20:58</td>\n      <td>2020-01-13 06:53:22</td>\n      <td>977</td>\n      <td>2020-01-01</td>\n    </tr>\n    <tr>\n      <th>60</th>\n      <td>156</td>\n      <td>0</td>\n      <td>2020-01-09 09:55:19</td>\n      <td>2020-01-09 09:55:19</td>\n      <td>2020-01-09 09:55:19</td>\n      <td>0</td>\n      <td>2020-01-01</td>\n    </tr>\n    <tr>\n      <th>61</th>\n      <td>157</td>\n      <td>0</td>\n      <td>2020-01-13 06:07:18</td>\n      <td>2020-01-13 06:07:18</td>\n      <td>2020-01-13 06:07:18</td>\n      <td>0</td>\n      <td>2020-01-01</td>\n    </tr>\n  </tbody>\n</table>\n<p>62 rows × 7 columns</p>\n</div>"
     },
     "metadata": {},
     "execution_count": 342
    }
   ],
   "source": [
    "user_status_df"
   ]
  },
  {
   "cell_type": "code",
   "execution_count": 346,
   "metadata": {},
   "outputs": [],
   "source": [
    "df_j = pd.merge(user_data_df, user_status_df, left_on='UniqueId', right_on='UniqueId')"
   ]
  },
  {
   "cell_type": "code",
   "execution_count": 347,
   "metadata": {},
   "outputs": [
    {
     "output_type": "execute_result",
     "data": {
      "text/plain": [
       "    UniqueId                           Email           Phone  \\\n",
       "52       148      testuser48@sharklasers.com  +6285312376534   \n",
       "53       149          testuser49@yahoo.co.id               -   \n",
       "54       150         testuser50@pahamify.com   +628134566532   \n",
       "55       151      testuser51@sharklasers.com  +6285312332112   \n",
       "56       152         testuser52@pahamify.com               -   \n",
       "57       153  testuser5+150-2@apps.ipb.ac.id               -   \n",
       "58       154       testuser54@apps.ipb.ac.id               -   \n",
       "59       155         testuser55@pahamify.com     08571231243   \n",
       "60       156            testuser56@gmail.com    085712332112   \n",
       "61       157            testuser57@gmail.com  +6285612332112   \n",
       "\n",
       "    confirmationEmail    RegistrationDate year_month_date_x  \\\n",
       "52                  1 2019-11-27 02:50:08        2019-11-01   \n",
       "53                  1 2019-11-29 08:21:13        2019-11-01   \n",
       "54                  1 2019-12-03 09:19:03        2019-12-01   \n",
       "55                  1 2019-12-05 02:47:05        2019-12-01   \n",
       "56                  1 2020-01-03 08:38:04        2020-01-01   \n",
       "57                  1 2020-01-03 09:42:15        2020-01-01   \n",
       "58                  1 2020-01-03 09:55:24        2020-01-01   \n",
       "59                  1 2020-01-06 11:20:31        2020-01-01   \n",
       "60                  1 2020-01-09 09:55:01        2020-01-01   \n",
       "61                  1 2020-01-13 06:06:55        2020-01-01   \n",
       "\n",
       "    UserPremiumStatus      PackageEndDate UserStatusCreatedDate  \\\n",
       "52                  1 2020-12-01 02:54:13   2019-11-27 02:50:26   \n",
       "53                  0 2019-12-01 08:21:13   2019-11-29 08:21:13   \n",
       "54                  0 2019-12-07 09:19:37   2019-12-03 09:19:37   \n",
       "55                  0 2019-12-07 02:47:22   2019-12-05 02:47:22   \n",
       "56                  1 2020-02-02 10:16:22   2020-01-03 08:38:05   \n",
       "57                  1 2021-01-02 09:54:12   2020-01-03 09:42:15   \n",
       "58                  1 2022-02-01 09:56:10   2020-01-03 09:55:24   \n",
       "59                  0 2020-01-06 11:20:58   2020-01-06 11:20:58   \n",
       "60                  0 2020-01-09 09:55:19   2020-01-09 09:55:19   \n",
       "61                  0 2020-01-13 06:07:18   2020-01-13 06:07:18   \n",
       "\n",
       "   UserStatusLastUpdate  CurrentDiamond year_month_date_y  \n",
       "52  2020-01-02 23:45:01               5        2020-12-01  \n",
       "53  2020-01-02 23:45:00               0        2019-12-01  \n",
       "54  2020-01-02 23:45:00            9986        2019-12-01  \n",
       "55  2020-01-02 23:45:00               0        2019-12-01  \n",
       "56  2020-01-03 10:16:22               0        2020-02-01  \n",
       "57  2020-01-03 09:54:12               5        2021-01-01  \n",
       "58  2020-01-03 10:10:03              10        2022-02-01  \n",
       "59  2020-01-13 06:53:22             977        2020-01-01  \n",
       "60  2020-01-09 09:55:19               0        2020-01-01  \n",
       "61  2020-01-13 06:07:18               0        2020-01-01  "
      ],
      "text/html": "<div>\n<style scoped>\n    .dataframe tbody tr th:only-of-type {\n        vertical-align: middle;\n    }\n\n    .dataframe tbody tr th {\n        vertical-align: top;\n    }\n\n    .dataframe thead th {\n        text-align: right;\n    }\n</style>\n<table border=\"1\" class=\"dataframe\">\n  <thead>\n    <tr style=\"text-align: right;\">\n      <th></th>\n      <th>UniqueId</th>\n      <th>Email</th>\n      <th>Phone</th>\n      <th>confirmationEmail</th>\n      <th>RegistrationDate</th>\n      <th>year_month_date_x</th>\n      <th>UserPremiumStatus</th>\n      <th>PackageEndDate</th>\n      <th>UserStatusCreatedDate</th>\n      <th>UserStatusLastUpdate</th>\n      <th>CurrentDiamond</th>\n      <th>year_month_date_y</th>\n    </tr>\n  </thead>\n  <tbody>\n    <tr>\n      <th>52</th>\n      <td>148</td>\n      <td>testuser48@sharklasers.com</td>\n      <td>+6285312376534</td>\n      <td>1</td>\n      <td>2019-11-27 02:50:08</td>\n      <td>2019-11-01</td>\n      <td>1</td>\n      <td>2020-12-01 02:54:13</td>\n      <td>2019-11-27 02:50:26</td>\n      <td>2020-01-02 23:45:01</td>\n      <td>5</td>\n      <td>2020-12-01</td>\n    </tr>\n    <tr>\n      <th>53</th>\n      <td>149</td>\n      <td>testuser49@yahoo.co.id</td>\n      <td>-</td>\n      <td>1</td>\n      <td>2019-11-29 08:21:13</td>\n      <td>2019-11-01</td>\n      <td>0</td>\n      <td>2019-12-01 08:21:13</td>\n      <td>2019-11-29 08:21:13</td>\n      <td>2020-01-02 23:45:00</td>\n      <td>0</td>\n      <td>2019-12-01</td>\n    </tr>\n    <tr>\n      <th>54</th>\n      <td>150</td>\n      <td>testuser50@pahamify.com</td>\n      <td>+628134566532</td>\n      <td>1</td>\n      <td>2019-12-03 09:19:03</td>\n      <td>2019-12-01</td>\n      <td>0</td>\n      <td>2019-12-07 09:19:37</td>\n      <td>2019-12-03 09:19:37</td>\n      <td>2020-01-02 23:45:00</td>\n      <td>9986</td>\n      <td>2019-12-01</td>\n    </tr>\n    <tr>\n      <th>55</th>\n      <td>151</td>\n      <td>testuser51@sharklasers.com</td>\n      <td>+6285312332112</td>\n      <td>1</td>\n      <td>2019-12-05 02:47:05</td>\n      <td>2019-12-01</td>\n      <td>0</td>\n      <td>2019-12-07 02:47:22</td>\n      <td>2019-12-05 02:47:22</td>\n      <td>2020-01-02 23:45:00</td>\n      <td>0</td>\n      <td>2019-12-01</td>\n    </tr>\n    <tr>\n      <th>56</th>\n      <td>152</td>\n      <td>testuser52@pahamify.com</td>\n      <td>-</td>\n      <td>1</td>\n      <td>2020-01-03 08:38:04</td>\n      <td>2020-01-01</td>\n      <td>1</td>\n      <td>2020-02-02 10:16:22</td>\n      <td>2020-01-03 08:38:05</td>\n      <td>2020-01-03 10:16:22</td>\n      <td>0</td>\n      <td>2020-02-01</td>\n    </tr>\n    <tr>\n      <th>57</th>\n      <td>153</td>\n      <td>testuser5+150-2@apps.ipb.ac.id</td>\n      <td>-</td>\n      <td>1</td>\n      <td>2020-01-03 09:42:15</td>\n      <td>2020-01-01</td>\n      <td>1</td>\n      <td>2021-01-02 09:54:12</td>\n      <td>2020-01-03 09:42:15</td>\n      <td>2020-01-03 09:54:12</td>\n      <td>5</td>\n      <td>2021-01-01</td>\n    </tr>\n    <tr>\n      <th>58</th>\n      <td>154</td>\n      <td>testuser54@apps.ipb.ac.id</td>\n      <td>-</td>\n      <td>1</td>\n      <td>2020-01-03 09:55:24</td>\n      <td>2020-01-01</td>\n      <td>1</td>\n      <td>2022-02-01 09:56:10</td>\n      <td>2020-01-03 09:55:24</td>\n      <td>2020-01-03 10:10:03</td>\n      <td>10</td>\n      <td>2022-02-01</td>\n    </tr>\n    <tr>\n      <th>59</th>\n      <td>155</td>\n      <td>testuser55@pahamify.com</td>\n      <td>08571231243</td>\n      <td>1</td>\n      <td>2020-01-06 11:20:31</td>\n      <td>2020-01-01</td>\n      <td>0</td>\n      <td>2020-01-06 11:20:58</td>\n      <td>2020-01-06 11:20:58</td>\n      <td>2020-01-13 06:53:22</td>\n      <td>977</td>\n      <td>2020-01-01</td>\n    </tr>\n    <tr>\n      <th>60</th>\n      <td>156</td>\n      <td>testuser56@gmail.com</td>\n      <td>085712332112</td>\n      <td>1</td>\n      <td>2020-01-09 09:55:01</td>\n      <td>2020-01-01</td>\n      <td>0</td>\n      <td>2020-01-09 09:55:19</td>\n      <td>2020-01-09 09:55:19</td>\n      <td>2020-01-09 09:55:19</td>\n      <td>0</td>\n      <td>2020-01-01</td>\n    </tr>\n    <tr>\n      <th>61</th>\n      <td>157</td>\n      <td>testuser57@gmail.com</td>\n      <td>+6285612332112</td>\n      <td>1</td>\n      <td>2020-01-13 06:06:55</td>\n      <td>2020-01-01</td>\n      <td>0</td>\n      <td>2020-01-13 06:07:18</td>\n      <td>2020-01-13 06:07:18</td>\n      <td>2020-01-13 06:07:18</td>\n      <td>0</td>\n      <td>2020-01-01</td>\n    </tr>\n  </tbody>\n</table>\n</div>"
     },
     "metadata": {},
     "execution_count": 347
    }
   ],
   "source": [
    "df_j.tail(10)"
   ]
  },
  {
   "cell_type": "code",
   "execution_count": 354,
   "metadata": {},
   "outputs": [],
   "source": [
    "df_j['month_lifespan'] = (df_j.year_month_date_y.dt.year - df_j.year_month_date_x.dt.year) * 12 + (df_j.year_month_date_y.dt.month - df_j.year_month_date_x.dt.month) + 1"
   ]
  },
  {
   "cell_type": "code",
   "execution_count": 356,
   "metadata": {},
   "outputs": [
    {
     "output_type": "execute_result",
     "data": {
      "text/plain": [
       "17.483870967741936"
      ]
     },
     "metadata": {},
     "execution_count": 356
    }
   ],
   "source": [
    "df_j['month_lifespan'].mean()"
   ]
  },
  {
   "cell_type": "code",
   "execution_count": 360,
   "metadata": {},
   "outputs": [],
   "source": [
    "df_x['LifeTimeValue_month'] = df_x['CustomerValue'] * df_j['month_lifespan'].mean()\n",
    "df_x['LifeTimeValue_month'] = df_x['LifeTimeValue_month'].apply(lambda x: float(\"{:.2f}\".format(x)))"
   ]
  },
  {
   "cell_type": "code",
   "execution_count": 361,
   "metadata": {},
   "outputs": [
    {
     "output_type": "execute_result",
     "data": {
      "text/plain": [
       "  year_month_date  TotalPrice  UniqueUser  TransactionCount            avg  \\\n",
       "0      2019-07-01     2720000          11                60   45333.333333   \n",
       "1      2019-08-01      100000           1                 2   50000.000000   \n",
       "2      2019-09-01     1300000           5                11  118181.818182   \n",
       "3      2019-10-01     3680000          33                65   56615.384615   \n",
       "4      2019-11-01     3405000           4                13  261923.076923   \n",
       "5      2019-12-01    11025000           5                32  344531.250000   \n",
       "6      2020-01-01     8850000           4                24  368750.000000   \n",
       "\n",
       "   avg_purchase_freq  CustomerValue  LifeTimeValue_month  \n",
       "0           5.454545      247272.73           4323284.51  \n",
       "1           2.000000      100000.00           1748387.10  \n",
       "2           2.200000      260000.00           4545806.45  \n",
       "3           1.969697      111515.15           1949716.49  \n",
       "4           3.250000      851250.00          14883145.16  \n",
       "5           6.400000     2205000.00          38551935.48  \n",
       "6           6.000000     2212500.00          38683064.52  "
      ],
      "text/html": "<div>\n<style scoped>\n    .dataframe tbody tr th:only-of-type {\n        vertical-align: middle;\n    }\n\n    .dataframe tbody tr th {\n        vertical-align: top;\n    }\n\n    .dataframe thead th {\n        text-align: right;\n    }\n</style>\n<table border=\"1\" class=\"dataframe\">\n  <thead>\n    <tr style=\"text-align: right;\">\n      <th></th>\n      <th>year_month_date</th>\n      <th>TotalPrice</th>\n      <th>UniqueUser</th>\n      <th>TransactionCount</th>\n      <th>avg</th>\n      <th>avg_purchase_freq</th>\n      <th>CustomerValue</th>\n      <th>LifeTimeValue_month</th>\n    </tr>\n  </thead>\n  <tbody>\n    <tr>\n      <th>0</th>\n      <td>2019-07-01</td>\n      <td>2720000</td>\n      <td>11</td>\n      <td>60</td>\n      <td>45333.333333</td>\n      <td>5.454545</td>\n      <td>247272.73</td>\n      <td>4323284.51</td>\n    </tr>\n    <tr>\n      <th>1</th>\n      <td>2019-08-01</td>\n      <td>100000</td>\n      <td>1</td>\n      <td>2</td>\n      <td>50000.000000</td>\n      <td>2.000000</td>\n      <td>100000.00</td>\n      <td>1748387.10</td>\n    </tr>\n    <tr>\n      <th>2</th>\n      <td>2019-09-01</td>\n      <td>1300000</td>\n      <td>5</td>\n      <td>11</td>\n      <td>118181.818182</td>\n      <td>2.200000</td>\n      <td>260000.00</td>\n      <td>4545806.45</td>\n    </tr>\n    <tr>\n      <th>3</th>\n      <td>2019-10-01</td>\n      <td>3680000</td>\n      <td>33</td>\n      <td>65</td>\n      <td>56615.384615</td>\n      <td>1.969697</td>\n      <td>111515.15</td>\n      <td>1949716.49</td>\n    </tr>\n    <tr>\n      <th>4</th>\n      <td>2019-11-01</td>\n      <td>3405000</td>\n      <td>4</td>\n      <td>13</td>\n      <td>261923.076923</td>\n      <td>3.250000</td>\n      <td>851250.00</td>\n      <td>14883145.16</td>\n    </tr>\n    <tr>\n      <th>5</th>\n      <td>2019-12-01</td>\n      <td>11025000</td>\n      <td>5</td>\n      <td>32</td>\n      <td>344531.250000</td>\n      <td>6.400000</td>\n      <td>2205000.00</td>\n      <td>38551935.48</td>\n    </tr>\n    <tr>\n      <th>6</th>\n      <td>2020-01-01</td>\n      <td>8850000</td>\n      <td>4</td>\n      <td>24</td>\n      <td>368750.000000</td>\n      <td>6.000000</td>\n      <td>2212500.00</td>\n      <td>38683064.52</td>\n    </tr>\n  </tbody>\n</table>\n</div>"
     },
     "metadata": {},
     "execution_count": 361
    }
   ],
   "source": [
    "df_x"
   ]
  },
  {
   "source": [
    "# Monthly Active User (by action)"
   ],
   "cell_type": "markdown",
   "metadata": {}
  },
  {
   "cell_type": "code",
   "execution_count": 377,
   "metadata": {},
   "outputs": [
    {
     "output_type": "execute_result",
     "data": {
      "text/plain": [
       "                       UniqueUserActionId UserActionCreatedDate  \\\n",
       "0    00292417-c77a-45eb-8d86-f6b60fa771aa   2019-10-28 14:22:51   \n",
       "1    005741ff-2f2f-4a94-a3ab-a85e7c8ec68d   2019-10-12 19:13:27   \n",
       "2    01af8353-fac2-4b69-9a09-3bee2405cc24   2019-10-28 18:47:58   \n",
       "3    01dc384f-4a83-4782-aaa1-372cede54a95   2019-12-05 10:47:22   \n",
       "4    024837d0-6894-4345-a46f-941714eaadd6   2019-12-04 11:42:06   \n",
       "..                                    ...                   ...   \n",
       "340  fa35f8d3-5d76-42f1-a5ec-edd49e23dc4b   2019-10-24 17:29:27   \n",
       "341  fb2f12b1-20cc-44f0-b9c3-d6b0305b12cc   2020-01-03 16:11:01   \n",
       "342  fe379bae-ca20-43ed-b640-6f4032de838c   2019-10-13 11:33:11   \n",
       "343  fe5f8728-1801-4df4-a35f-23ca52c89c1c   2019-12-03 14:37:00   \n",
       "344  ff189ff4-10c7-41b4-9875-de088e1acc42   2019-10-13 11:33:10   \n",
       "\n",
       "                      UniqueTransactionId  UserId  \\\n",
       "0    d5d70720-2c6b-4efe-9d5b-14f0617f5300      43   \n",
       "1                                     NaN      76   \n",
       "2    c4ab723c-384e-4ce4-8cf8-0364cf92b86c      43   \n",
       "3    2c7e043a-6e92-4407-aba0-9819d27aec04     123   \n",
       "4    c209667d-134d-4b6d-969c-403f19873e16       7   \n",
       "..                                    ...     ...   \n",
       "340                                   NaN     123   \n",
       "341  7ef198ac-2bb2-42a3-9f9a-8a0cf39bef43     123   \n",
       "342                                   NaN     104   \n",
       "343  0b7fb9e3-f404-4857-8b78-650f02a101ee     123   \n",
       "344                                   NaN      43   \n",
       "\n",
       "                    UniqueActionPackageId year_month_date  \n",
       "0    e4ecd156-789f-4639-b03a-953aaad54d0c      2019-10-01  \n",
       "1    021ca281-b694-43e8-936a-9cbf98cbbdce      2019-10-01  \n",
       "2    e4ecd156-789f-4639-b03a-953aaad54d0c      2019-10-01  \n",
       "3    9e7135ca-753b-4e5b-bff1-c27d45d1fe85      2019-12-01  \n",
       "4    43827957-7c98-436d-9a9b-2eb47096ef67      2019-12-01  \n",
       "..                                    ...             ...  \n",
       "340  021ca281-b694-43e8-936a-9cbf98cbbdce      2019-10-01  \n",
       "341  9e7135ca-753b-4e5b-bff1-c27d45d1fe85      2020-01-01  \n",
       "342  021ca281-b694-43e8-936a-9cbf98cbbdce      2019-10-01  \n",
       "343  9e7135ca-753b-4e5b-bff1-c27d45d1fe85      2019-12-01  \n",
       "344  021ca281-b694-43e8-936a-9cbf98cbbdce      2019-10-01  \n",
       "\n",
       "[345 rows x 6 columns]"
      ],
      "text/html": "<div>\n<style scoped>\n    .dataframe tbody tr th:only-of-type {\n        vertical-align: middle;\n    }\n\n    .dataframe tbody tr th {\n        vertical-align: top;\n    }\n\n    .dataframe thead th {\n        text-align: right;\n    }\n</style>\n<table border=\"1\" class=\"dataframe\">\n  <thead>\n    <tr style=\"text-align: right;\">\n      <th></th>\n      <th>UniqueUserActionId</th>\n      <th>UserActionCreatedDate</th>\n      <th>UniqueTransactionId</th>\n      <th>UserId</th>\n      <th>UniqueActionPackageId</th>\n      <th>year_month_date</th>\n    </tr>\n  </thead>\n  <tbody>\n    <tr>\n      <th>0</th>\n      <td>00292417-c77a-45eb-8d86-f6b60fa771aa</td>\n      <td>2019-10-28 14:22:51</td>\n      <td>d5d70720-2c6b-4efe-9d5b-14f0617f5300</td>\n      <td>43</td>\n      <td>e4ecd156-789f-4639-b03a-953aaad54d0c</td>\n      <td>2019-10-01</td>\n    </tr>\n    <tr>\n      <th>1</th>\n      <td>005741ff-2f2f-4a94-a3ab-a85e7c8ec68d</td>\n      <td>2019-10-12 19:13:27</td>\n      <td>NaN</td>\n      <td>76</td>\n      <td>021ca281-b694-43e8-936a-9cbf98cbbdce</td>\n      <td>2019-10-01</td>\n    </tr>\n    <tr>\n      <th>2</th>\n      <td>01af8353-fac2-4b69-9a09-3bee2405cc24</td>\n      <td>2019-10-28 18:47:58</td>\n      <td>c4ab723c-384e-4ce4-8cf8-0364cf92b86c</td>\n      <td>43</td>\n      <td>e4ecd156-789f-4639-b03a-953aaad54d0c</td>\n      <td>2019-10-01</td>\n    </tr>\n    <tr>\n      <th>3</th>\n      <td>01dc384f-4a83-4782-aaa1-372cede54a95</td>\n      <td>2019-12-05 10:47:22</td>\n      <td>2c7e043a-6e92-4407-aba0-9819d27aec04</td>\n      <td>123</td>\n      <td>9e7135ca-753b-4e5b-bff1-c27d45d1fe85</td>\n      <td>2019-12-01</td>\n    </tr>\n    <tr>\n      <th>4</th>\n      <td>024837d0-6894-4345-a46f-941714eaadd6</td>\n      <td>2019-12-04 11:42:06</td>\n      <td>c209667d-134d-4b6d-969c-403f19873e16</td>\n      <td>7</td>\n      <td>43827957-7c98-436d-9a9b-2eb47096ef67</td>\n      <td>2019-12-01</td>\n    </tr>\n    <tr>\n      <th>...</th>\n      <td>...</td>\n      <td>...</td>\n      <td>...</td>\n      <td>...</td>\n      <td>...</td>\n      <td>...</td>\n    </tr>\n    <tr>\n      <th>340</th>\n      <td>fa35f8d3-5d76-42f1-a5ec-edd49e23dc4b</td>\n      <td>2019-10-24 17:29:27</td>\n      <td>NaN</td>\n      <td>123</td>\n      <td>021ca281-b694-43e8-936a-9cbf98cbbdce</td>\n      <td>2019-10-01</td>\n    </tr>\n    <tr>\n      <th>341</th>\n      <td>fb2f12b1-20cc-44f0-b9c3-d6b0305b12cc</td>\n      <td>2020-01-03 16:11:01</td>\n      <td>7ef198ac-2bb2-42a3-9f9a-8a0cf39bef43</td>\n      <td>123</td>\n      <td>9e7135ca-753b-4e5b-bff1-c27d45d1fe85</td>\n      <td>2020-01-01</td>\n    </tr>\n    <tr>\n      <th>342</th>\n      <td>fe379bae-ca20-43ed-b640-6f4032de838c</td>\n      <td>2019-10-13 11:33:11</td>\n      <td>NaN</td>\n      <td>104</td>\n      <td>021ca281-b694-43e8-936a-9cbf98cbbdce</td>\n      <td>2019-10-01</td>\n    </tr>\n    <tr>\n      <th>343</th>\n      <td>fe5f8728-1801-4df4-a35f-23ca52c89c1c</td>\n      <td>2019-12-03 14:37:00</td>\n      <td>0b7fb9e3-f404-4857-8b78-650f02a101ee</td>\n      <td>123</td>\n      <td>9e7135ca-753b-4e5b-bff1-c27d45d1fe85</td>\n      <td>2019-12-01</td>\n    </tr>\n    <tr>\n      <th>344</th>\n      <td>ff189ff4-10c7-41b4-9875-de088e1acc42</td>\n      <td>2019-10-13 11:33:10</td>\n      <td>NaN</td>\n      <td>43</td>\n      <td>021ca281-b694-43e8-936a-9cbf98cbbdce</td>\n      <td>2019-10-01</td>\n    </tr>\n  </tbody>\n</table>\n<p>345 rows × 6 columns</p>\n</div>"
     },
     "metadata": {},
     "execution_count": 377
    }
   ],
   "source": [
    "transaction_copy"
   ]
  },
  {
   "cell_type": "code",
   "execution_count": 376,
   "metadata": {},
   "outputs": [],
   "source": [
    "transaction_copy['UserActionCreatedDate'] = pd.to_datetime(transaction_copy['UserActionCreatedDate'])\n",
    "transaction_copy['year_month_date'] = transaction_copy['UserActionCreatedDate'].dt.strftime('%Y-%m')\n",
    "transaction_copy['year_month_date'] = pd.to_datetime(transaction_copy['year_month_date'])"
   ]
  },
  {
   "cell_type": "code",
   "execution_count": 380,
   "metadata": {},
   "outputs": [
    {
     "output_type": "execute_result",
     "data": {
      "text/plain": [
       "107"
      ]
     },
     "metadata": {},
     "execution_count": 380
    }
   ],
   "source": [
    "transaction_copy['UserId'].nunique()"
   ]
  },
  {
   "cell_type": "code",
   "execution_count": 402,
   "metadata": {},
   "outputs": [],
   "source": [
    "df_m = transaction_copy.groupby(['year_month_date'], as_index=True).agg({'UserId':'nunique', 'UniqueUserActionId':'count'}).reset_index()\n",
    "df_m = df_m.rename(columns={'UserId': 'UniqueUser', 'UniqueUserActionId': 'ActionCount'})"
   ]
  },
  {
   "cell_type": "code",
   "execution_count": 403,
   "metadata": {},
   "outputs": [
    {
     "output_type": "execute_result",
     "data": {
      "text/plain": [
       "  year_month_date  UniqueUser  ActionCount\n",
       "0      2019-07-01          11           60\n",
       "1      2019-08-01           1            2\n",
       "2      2019-09-01           5           11\n",
       "3      2019-10-01          99          203\n",
       "4      2019-11-01           4           13\n",
       "5      2019-12-01           5           32\n",
       "6      2020-01-01           4           24"
      ],
      "text/html": "<div>\n<style scoped>\n    .dataframe tbody tr th:only-of-type {\n        vertical-align: middle;\n    }\n\n    .dataframe tbody tr th {\n        vertical-align: top;\n    }\n\n    .dataframe thead th {\n        text-align: right;\n    }\n</style>\n<table border=\"1\" class=\"dataframe\">\n  <thead>\n    <tr style=\"text-align: right;\">\n      <th></th>\n      <th>year_month_date</th>\n      <th>UniqueUser</th>\n      <th>ActionCount</th>\n    </tr>\n  </thead>\n  <tbody>\n    <tr>\n      <th>0</th>\n      <td>2019-07-01</td>\n      <td>11</td>\n      <td>60</td>\n    </tr>\n    <tr>\n      <th>1</th>\n      <td>2019-08-01</td>\n      <td>1</td>\n      <td>2</td>\n    </tr>\n    <tr>\n      <th>2</th>\n      <td>2019-09-01</td>\n      <td>5</td>\n      <td>11</td>\n    </tr>\n    <tr>\n      <th>3</th>\n      <td>2019-10-01</td>\n      <td>99</td>\n      <td>203</td>\n    </tr>\n    <tr>\n      <th>4</th>\n      <td>2019-11-01</td>\n      <td>4</td>\n      <td>13</td>\n    </tr>\n    <tr>\n      <th>5</th>\n      <td>2019-12-01</td>\n      <td>5</td>\n      <td>32</td>\n    </tr>\n    <tr>\n      <th>6</th>\n      <td>2020-01-01</td>\n      <td>4</td>\n      <td>24</td>\n    </tr>\n  </tbody>\n</table>\n</div>"
     },
     "metadata": {},
     "execution_count": 403
    }
   ],
   "source": [
    "df_m"
   ]
  },
  {
   "source": [
    "# Export to CSV"
   ],
   "cell_type": "markdown",
   "metadata": {}
  },
  {
   "cell_type": "code",
   "execution_count": 397,
   "metadata": {},
   "outputs": [
    {
     "output_type": "execute_result",
     "data": {
      "text/plain": [
       "  year_month_date  TotalPrice  UniqueUser  TransactionCount            avg  \\\n",
       "0      2019-07-01     2720000          11                60   45333.333333   \n",
       "1      2019-08-01      100000           1                 2   50000.000000   \n",
       "2      2019-09-01     1300000           5                11  118181.818182   \n",
       "3      2019-10-01     3680000          33                65   56615.384615   \n",
       "4      2019-11-01     3405000           4                13  261923.076923   \n",
       "5      2019-12-01    11025000           5                32  344531.250000   \n",
       "6      2020-01-01     8850000           4                24  368750.000000   \n",
       "\n",
       "   avg_purchase_freq  CustomerValue  LifeTimeValue_month  \n",
       "0           5.454545      247272.73           4323284.51  \n",
       "1           2.000000      100000.00           1748387.10  \n",
       "2           2.200000      260000.00           4545806.45  \n",
       "3           1.969697      111515.15           1949716.49  \n",
       "4           3.250000      851250.00          14883145.16  \n",
       "5           6.400000     2205000.00          38551935.48  \n",
       "6           6.000000     2212500.00          38683064.52  "
      ],
      "text/html": "<div>\n<style scoped>\n    .dataframe tbody tr th:only-of-type {\n        vertical-align: middle;\n    }\n\n    .dataframe tbody tr th {\n        vertical-align: top;\n    }\n\n    .dataframe thead th {\n        text-align: right;\n    }\n</style>\n<table border=\"1\" class=\"dataframe\">\n  <thead>\n    <tr style=\"text-align: right;\">\n      <th></th>\n      <th>year_month_date</th>\n      <th>TotalPrice</th>\n      <th>UniqueUser</th>\n      <th>TransactionCount</th>\n      <th>avg</th>\n      <th>avg_purchase_freq</th>\n      <th>CustomerValue</th>\n      <th>LifeTimeValue_month</th>\n    </tr>\n  </thead>\n  <tbody>\n    <tr>\n      <th>0</th>\n      <td>2019-07-01</td>\n      <td>2720000</td>\n      <td>11</td>\n      <td>60</td>\n      <td>45333.333333</td>\n      <td>5.454545</td>\n      <td>247272.73</td>\n      <td>4323284.51</td>\n    </tr>\n    <tr>\n      <th>1</th>\n      <td>2019-08-01</td>\n      <td>100000</td>\n      <td>1</td>\n      <td>2</td>\n      <td>50000.000000</td>\n      <td>2.000000</td>\n      <td>100000.00</td>\n      <td>1748387.10</td>\n    </tr>\n    <tr>\n      <th>2</th>\n      <td>2019-09-01</td>\n      <td>1300000</td>\n      <td>5</td>\n      <td>11</td>\n      <td>118181.818182</td>\n      <td>2.200000</td>\n      <td>260000.00</td>\n      <td>4545806.45</td>\n    </tr>\n    <tr>\n      <th>3</th>\n      <td>2019-10-01</td>\n      <td>3680000</td>\n      <td>33</td>\n      <td>65</td>\n      <td>56615.384615</td>\n      <td>1.969697</td>\n      <td>111515.15</td>\n      <td>1949716.49</td>\n    </tr>\n    <tr>\n      <th>4</th>\n      <td>2019-11-01</td>\n      <td>3405000</td>\n      <td>4</td>\n      <td>13</td>\n      <td>261923.076923</td>\n      <td>3.250000</td>\n      <td>851250.00</td>\n      <td>14883145.16</td>\n    </tr>\n    <tr>\n      <th>5</th>\n      <td>2019-12-01</td>\n      <td>11025000</td>\n      <td>5</td>\n      <td>32</td>\n      <td>344531.250000</td>\n      <td>6.400000</td>\n      <td>2205000.00</td>\n      <td>38551935.48</td>\n    </tr>\n    <tr>\n      <th>6</th>\n      <td>2020-01-01</td>\n      <td>8850000</td>\n      <td>4</td>\n      <td>24</td>\n      <td>368750.000000</td>\n      <td>6.000000</td>\n      <td>2212500.00</td>\n      <td>38683064.52</td>\n    </tr>\n  </tbody>\n</table>\n</div>"
     },
     "metadata": {},
     "execution_count": 397
    }
   ],
   "source": [
    "df_x"
   ]
  },
  {
   "cell_type": "code",
   "execution_count": 398,
   "metadata": {},
   "outputs": [
    {
     "output_type": "execute_result",
     "data": {
      "text/plain": [
       "  year_month_date  NewUser  total_user  UserLeave        cr\n",
       "0      2018-08-01       53          77          6  7.792208\n",
       "1      2018-09-01        2          79          1  1.265823\n",
       "2      2019-08-01        4         119          4  3.361345\n",
       "3      2019-09-01        8         127         12  9.448819\n",
       "4      2019-10-01       11         138          8  5.797101\n",
       "5      2019-11-01        8         146         11  7.534247\n",
       "6      2019-12-01        2         148          4  2.702703\n",
       "7      2020-01-01        6         154          3  1.948052"
      ],
      "text/html": "<div>\n<style scoped>\n    .dataframe tbody tr th:only-of-type {\n        vertical-align: middle;\n    }\n\n    .dataframe tbody tr th {\n        vertical-align: top;\n    }\n\n    .dataframe thead th {\n        text-align: right;\n    }\n</style>\n<table border=\"1\" class=\"dataframe\">\n  <thead>\n    <tr style=\"text-align: right;\">\n      <th></th>\n      <th>year_month_date</th>\n      <th>NewUser</th>\n      <th>total_user</th>\n      <th>UserLeave</th>\n      <th>cr</th>\n    </tr>\n  </thead>\n  <tbody>\n    <tr>\n      <th>0</th>\n      <td>2018-08-01</td>\n      <td>53</td>\n      <td>77</td>\n      <td>6</td>\n      <td>7.792208</td>\n    </tr>\n    <tr>\n      <th>1</th>\n      <td>2018-09-01</td>\n      <td>2</td>\n      <td>79</td>\n      <td>1</td>\n      <td>1.265823</td>\n    </tr>\n    <tr>\n      <th>2</th>\n      <td>2019-08-01</td>\n      <td>4</td>\n      <td>119</td>\n      <td>4</td>\n      <td>3.361345</td>\n    </tr>\n    <tr>\n      <th>3</th>\n      <td>2019-09-01</td>\n      <td>8</td>\n      <td>127</td>\n      <td>12</td>\n      <td>9.448819</td>\n    </tr>\n    <tr>\n      <th>4</th>\n      <td>2019-10-01</td>\n      <td>11</td>\n      <td>138</td>\n      <td>8</td>\n      <td>5.797101</td>\n    </tr>\n    <tr>\n      <th>5</th>\n      <td>2019-11-01</td>\n      <td>8</td>\n      <td>146</td>\n      <td>11</td>\n      <td>7.534247</td>\n    </tr>\n    <tr>\n      <th>6</th>\n      <td>2019-12-01</td>\n      <td>2</td>\n      <td>148</td>\n      <td>4</td>\n      <td>2.702703</td>\n    </tr>\n    <tr>\n      <th>7</th>\n      <td>2020-01-01</td>\n      <td>6</td>\n      <td>154</td>\n      <td>3</td>\n      <td>1.948052</td>\n    </tr>\n  </tbody>\n</table>\n</div>"
     },
     "metadata": {},
     "execution_count": 398
    }
   ],
   "source": [
    "merge_user_df"
   ]
  },
  {
   "cell_type": "code",
   "execution_count": 399,
   "metadata": {},
   "outputs": [
    {
     "output_type": "execute_result",
     "data": {
      "text/plain": [
       "  year_month_date  UniqueUser  TransactionCount\n",
       "0      2019-07-01          11                60\n",
       "1      2019-08-01           1                 2\n",
       "2      2019-09-01           5                11\n",
       "3      2019-10-01          99               203\n",
       "4      2019-11-01           4                13\n",
       "5      2019-12-01           5                32\n",
       "6      2020-01-01           4                24"
      ],
      "text/html": "<div>\n<style scoped>\n    .dataframe tbody tr th:only-of-type {\n        vertical-align: middle;\n    }\n\n    .dataframe tbody tr th {\n        vertical-align: top;\n    }\n\n    .dataframe thead th {\n        text-align: right;\n    }\n</style>\n<table border=\"1\" class=\"dataframe\">\n  <thead>\n    <tr style=\"text-align: right;\">\n      <th></th>\n      <th>year_month_date</th>\n      <th>UniqueUser</th>\n      <th>TransactionCount</th>\n    </tr>\n  </thead>\n  <tbody>\n    <tr>\n      <th>0</th>\n      <td>2019-07-01</td>\n      <td>11</td>\n      <td>60</td>\n    </tr>\n    <tr>\n      <th>1</th>\n      <td>2019-08-01</td>\n      <td>1</td>\n      <td>2</td>\n    </tr>\n    <tr>\n      <th>2</th>\n      <td>2019-09-01</td>\n      <td>5</td>\n      <td>11</td>\n    </tr>\n    <tr>\n      <th>3</th>\n      <td>2019-10-01</td>\n      <td>99</td>\n      <td>203</td>\n    </tr>\n    <tr>\n      <th>4</th>\n      <td>2019-11-01</td>\n      <td>4</td>\n      <td>13</td>\n    </tr>\n    <tr>\n      <th>5</th>\n      <td>2019-12-01</td>\n      <td>5</td>\n      <td>32</td>\n    </tr>\n    <tr>\n      <th>6</th>\n      <td>2020-01-01</td>\n      <td>4</td>\n      <td>24</td>\n    </tr>\n  </tbody>\n</table>\n</div>"
     },
     "metadata": {},
     "execution_count": 399
    }
   ],
   "source": [
    "df_m"
   ]
  },
  {
   "cell_type": "code",
   "execution_count": 404,
   "metadata": {},
   "outputs": [],
   "source": [
    "df_x.to_csv('MonthRevenue_LifeTimeValue.csv')\n",
    "merge_user_df.to_csv('ChurnRate.csv')\n",
    "df_m.to_csv('MonthlyActiveUser.csv')"
   ]
  },
  {
   "cell_type": "code",
   "execution_count": null,
   "metadata": {},
   "outputs": [],
   "source": []
  }
 ]
}